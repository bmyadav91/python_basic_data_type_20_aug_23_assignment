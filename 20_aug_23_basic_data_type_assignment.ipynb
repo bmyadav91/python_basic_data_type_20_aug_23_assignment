{
 "cells": [
  {
   "cell_type": "code",
   "execution_count": 1,
   "id": "aa0776a9-3707-4266-8cb4-47f246924971",
   "metadata": {},
   "outputs": [],
   "source": [
    "#TOPIC: String Based Assignment Problem"
   ]
  },
  {
   "cell_type": "code",
   "execution_count": 2,
   "id": "00e76db9-4d4f-432d-8815-0c1e28f5b118",
   "metadata": {},
   "outputs": [],
   "source": [
    "#1. Write a program to reverse a string."
   ]
  },
  {
   "cell_type": "code",
   "execution_count": 3,
   "id": "af0a9548-34a0-420d-b731-9ad8aa869a0d",
   "metadata": {},
   "outputs": [
    {
     "name": "stdout",
     "output_type": "stream",
     "text": [
      "gnirts\n"
     ]
    }
   ],
   "source": [
    "#assuming a string as string\n",
    "string1 = \"string\"\n",
    "#reversing using slice\n",
    "string2 = string1[::-1]\n",
    "#now printing reversed string\n",
    "print(string2)"
   ]
  },
  {
   "cell_type": "code",
   "execution_count": 4,
   "id": "4fc50aff-8771-421d-848b-515031fea0e6",
   "metadata": {},
   "outputs": [],
   "source": [
    "#2.Check if a string is a palindrome."
   ]
  },
  {
   "cell_type": "code",
   "execution_count": 7,
   "id": "1478bda1-878e-4b86-a197-8a4c691446d9",
   "metadata": {},
   "outputs": [
    {
     "name": "stdin",
     "output_type": "stream",
     "text": [
      "enter random string:  India\n"
     ]
    },
    {
     "name": "stdout",
     "output_type": "stream",
     "text": [
      "India  is not palindrom\n"
     ]
    }
   ],
   "source": [
    "#collecting a random string from users\n",
    "string3 = input(\"enter random string: \")\n",
    "#reverse string to check\n",
    "string4 = string3[::-1]\n",
    "#check if string is same as reversed string\n",
    "if string4 == string3:\n",
    "    #if same then print yes it is palindrom\n",
    "    print(f\"{string3} is palindrom\")\n",
    "else:\n",
    "    #if not then print not palindrom in else par\n",
    "    print(string3, \" is not palindrom\")"
   ]
  },
  {
   "cell_type": "code",
   "execution_count": 8,
   "id": "7a54dbcf-0c9b-451d-a9ce-2bf647a9b06c",
   "metadata": {},
   "outputs": [],
   "source": [
    "#3. Convert a string to uppercase."
   ]
  },
  {
   "cell_type": "code",
   "execution_count": 9,
   "id": "dc02c1b0-ec77-4ed4-82ab-20a9b5e8bceb",
   "metadata": {},
   "outputs": [
    {
     "name": "stdout",
     "output_type": "stream",
     "text": [
      "MY LAPTOP IS OLD\n"
     ]
    }
   ],
   "source": [
    "#assuming a string\n",
    "string5 = \"My Laptop is old\"\n",
    "#convert it using upper() function and storing in string6 variable\n",
    "string6 = string5.upper()\n",
    "#printing string6 that is became upper case\n",
    "print(string6)"
   ]
  },
  {
   "cell_type": "code",
   "execution_count": 10,
   "id": "8cf185fc-9f8a-417b-81a3-a5764a9c1376",
   "metadata": {},
   "outputs": [],
   "source": [
    "#.4 Convert a string to lowercase."
   ]
  },
  {
   "cell_type": "code",
   "execution_count": 11,
   "id": "3750519a-153d-410e-8007-553df6e3f2cc",
   "metadata": {},
   "outputs": [
    {
     "name": "stdout",
     "output_type": "stream",
     "text": [
      "converting to lowercase\n"
     ]
    }
   ],
   "source": [
    "#assuming a string 7\n",
    "string7 = \"CONVERTING To LOwerCase\"\n",
    "#converting using lower() function and store in string 8 variable\n",
    "string8 = string7.lower()\n",
    "#now printing converted lower case\n",
    "print(string8)"
   ]
  },
  {
   "cell_type": "code",
   "execution_count": 12,
   "id": "917cfee4-dfc9-43ab-acca-7788f9d89679",
   "metadata": {},
   "outputs": [],
   "source": [
    "#5. Count the number of vowels in a string."
   ]
  },
  {
   "cell_type": "code",
   "execution_count": 14,
   "id": "7f60311a-226c-4fee-8012-29bf02bf98d6",
   "metadata": {},
   "outputs": [
    {
     "name": "stdin",
     "output_type": "stream",
     "text": [
      "Enter any string value to count vowel:  Gorakhpur\n"
     ]
    },
    {
     "name": "stdout",
     "output_type": "stream",
     "text": [
      "Number Of Vowel:  3\n"
     ]
    }
   ],
   "source": [
    "#collecting a string as input\n",
    "v_string = input(\"Enter any string value to count vowel: \")\n",
    "#assuming initial count is 0\n",
    "v_count = 0\n",
    "#assing i to string\n",
    "for i in v_string:\n",
    "    #checking if exist vowels in both case uper and lower\n",
    "    if i in \"aeiouAEIOU\":\n",
    "        #if fount then increament each time\n",
    "        v_count +=1\n",
    "#now printing number of vowels\n",
    "print(\"Number Of Vowel: \", v_count)"
   ]
  },
  {
   "cell_type": "code",
   "execution_count": 1,
   "id": "0e65ae4c-c635-4fed-80e8-8602fb2b704d",
   "metadata": {},
   "outputs": [],
   "source": [
    "#6. Count the number of consonants in a string."
   ]
  },
  {
   "cell_type": "code",
   "execution_count": 3,
   "id": "4ee41b8e-5ffb-4cd7-b901-13514aeef474",
   "metadata": {},
   "outputs": [
    {
     "name": "stdin",
     "output_type": "stream",
     "text": [
      "Enter any Random String:  Noida\n"
     ]
    },
    {
     "name": "stdout",
     "output_type": "stream",
     "text": [
      "Number Of Consonants:  2\n"
     ]
    }
   ],
   "source": [
    "#collecting any random string from user as input\n",
    "string10 = input(\"Enter any Random String: \")\n",
    "#initialize consonats 0 for now\n",
    "c_count = 0\n",
    "#assign i2 to string\n",
    "for i2 in string10:\n",
    "    #checking existing consonants in both case\n",
    "    if i2 in \"bcdfghjklmnpqrtvwxyzBCDFGHJKLMNPQRSTVWXYZ\":\n",
    "        #if found then increament c_count\n",
    "        c_count +=1\n",
    "    #now printing the increament value\n",
    "print(\"Number Of Consonants: \", c_count)"
   ]
  },
  {
   "cell_type": "code",
   "execution_count": null,
   "id": "16aab5c1-9e5f-4c06-a1c3-27b00d24a6d3",
   "metadata": {},
   "outputs": [],
   "source": [
    "#7. Remove all whitespaces from a string."
   ]
  },
  {
   "cell_type": "code",
   "execution_count": 5,
   "id": "220829a6-3062-43d3-a688-4b4cb88c2882",
   "metadata": {},
   "outputs": [
    {
     "name": "stdin",
     "output_type": "stream",
     "text": [
      "Enter a string:  how are you?\n"
     ]
    },
    {
     "name": "stdout",
     "output_type": "stream",
     "text": [
      "howareyou?\n"
     ]
    }
   ],
   "source": [
    "#collecting a string and string it in rem_whtspc\n",
    "rem_whtspc = input(\"Enter a string: \")\n",
    "#remove white space by using replace function by passing two arguement and store it remvd_whtspc\n",
    "remvd_whtspc = rem_whtspc.replace(\" \", \"\")\n",
    "#now printing the result \n",
    "print(remvd_whtspc)"
   ]
  },
  {
   "cell_type": "code",
   "execution_count": 6,
   "id": "ce52d121-27c9-42c5-b0ae-47fb2b3fe985",
   "metadata": {},
   "outputs": [],
   "source": [
    "#8. Find the length of a string without using the `len()` function."
   ]
  },
  {
   "cell_type": "code",
   "execution_count": 10,
   "id": "6cc6a904-9480-43f6-9dd9-68afa802bf6a",
   "metadata": {},
   "outputs": [
    {
     "name": "stdin",
     "output_type": "stream",
     "text": [
      "enter any string:  where is it?\n"
     ]
    },
    {
     "name": "stdout",
     "output_type": "stream",
     "text": [
      "Total Len is:  12\n"
     ]
    }
   ],
   "source": [
    "#collecting a string\n",
    "string11 = input(\"enter any string: \")\n",
    "#initialize str_count = 0\n",
    "str_count = 0\n",
    "#iterate through each character\n",
    "for i3 in string11:\n",
    "    #now increament each time in str_count\n",
    "    str_count +=1\n",
    "#printing the counted value\n",
    "print(\"Total Len is: \", str_count)"
   ]
  },
  {
   "cell_type": "code",
   "execution_count": null,
   "id": "a00c85c5-6008-4c6a-a9e9-9b68df899721",
   "metadata": {},
   "outputs": [],
   "source": [
    "#9. Check if a string contains a specific word."
   ]
  },
  {
   "cell_type": "code",
   "execution_count": 14,
   "id": "b5a5d0b7-941c-4f9a-80b0-fd4189b93ed7",
   "metadata": {},
   "outputs": [
    {
     "name": "stdin",
     "output_type": "stream",
     "text": [
      "Enter Random String:  where are you from?\n",
      "Specific Word:  you\n"
     ]
    },
    {
     "name": "stdout",
     "output_type": "stream",
     "text": [
      "Your 'you' Found in 'where are you from?'\n"
     ]
    }
   ],
   "source": [
    "#getting random strinbg from user\n",
    "get_rand_string = \"Random String if not enter by user\"\n",
    "#if string enter then assign it in get_rand_string\n",
    "get_rand_string = input(\"Enter Random String: \")\n",
    "#specfic words\n",
    "spec_word = input(\"Specific Word: \")\n",
    "#check in get_rand_string\n",
    "if spec_word in get_rand_string:\n",
    "    #if fount then printing\n",
    "    print(f\"Your '{spec_word}' Found in '{get_rand_string}'\")\n",
    "else:\n",
    "    #if not found then printing in else part\n",
    "    print(f\"your '{spec_word}' is not found in '{get_rand_string}'\")"
   ]
  },
  {
   "cell_type": "code",
   "execution_count": 9,
   "id": "6343fad3-b75d-40e2-aed4-27cd2896f641",
   "metadata": {},
   "outputs": [],
   "source": [
    "#10. Replace a word in a string with another word."
   ]
  },
  {
   "cell_type": "code",
   "execution_count": 15,
   "id": "914c891c-a81b-45ed-ae90-ba8c91953c41",
   "metadata": {},
   "outputs": [
    {
     "name": "stdin",
     "output_type": "stream",
     "text": [
      "Enter a random string:  python\n",
      "Enter Specific word to replace:  php\n"
     ]
    },
    {
     "name": "stdout",
     "output_type": "stream",
     "text": [
      "'python' replace with 'php' and now your modified result 'php'\n"
     ]
    }
   ],
   "source": [
    "#collecting and assign random word\n",
    "rand_string2 = \"python\"\n",
    "#from user to overtake rand_string2\n",
    "rand_string2 = input(\"Enter a random string: \")\n",
    "#user's desired word to replace with\n",
    "rep_word_2 = input(\"Enter Specific word to replace: \")\n",
    "#now replacing the word\n",
    "mod_word = rand_string2.replace(rand_string2, rep_word_2)\n",
    "#now printng modified word\n",
    "print(f\"'{rand_string2}' replace with '{rep_word_2}' and now your modified result '{mod_word}'\")"
   ]
  },
  {
   "cell_type": "code",
   "execution_count": 15,
   "id": "ee8c8dea-c7e6-434c-b5e3-c381dcba5435",
   "metadata": {},
   "outputs": [],
   "source": [
    "#11. Count the occurrences of a word in a string."
   ]
  },
  {
   "cell_type": "code",
   "execution_count": 16,
   "id": "3deb00bd-654d-48c2-829b-ab4cbdd686e9",
   "metadata": {},
   "outputs": [
    {
     "name": "stdin",
     "output_type": "stream",
     "text": [
      "Enter your desired string here:  India is Country and Uttar Pradesh is its state\n",
      "Enter Occurence Word:  is\n"
     ]
    },
    {
     "name": "stdout",
     "output_type": "stream",
     "text": [
      "'2' 'is' found in 'India is Country and Uttar Pradesh is its state'\n"
     ]
    }
   ],
   "source": [
    "#taking input from user if not enter user then already assing a sentence\n",
    "assign_string = \"India is Country and Uttar Pradesh is its state\"\n",
    "#now user can change it by entering random string or desire string\n",
    "assign_string = input(\"Enter your desired string here: \")\n",
    "#now finding occurrences word\n",
    "occurence_word = input(\"Enter Occurence Word: \")\n",
    "#now initilize occu_count = 0\n",
    "occu_count = 0\n",
    "#iterate through assing_string\n",
    "for occu_word in assign_string.split():\n",
    "    #if occurenece word == to assign string\n",
    "    if occu_word == occurence_word:\n",
    "        #now increament count in occu_count\n",
    "        occu_count +=1\n",
    "#now printing the number of occurence word\n",
    "print(f\"'{occu_count}' '{occurence_word}' found in '{assign_string}'\")"
   ]
  },
  {
   "cell_type": "code",
   "execution_count": null,
   "id": "d7e88c8a-4086-4c98-91c6-6f056dea21ab",
   "metadata": {},
   "outputs": [],
   "source": [
    "#12. Find the first occurrence of a word in a string."
   ]
  },
  {
   "cell_type": "code",
   "execution_count": 26,
   "id": "168dd169-77ea-4a0f-90ff-4c618cd1b9b9",
   "metadata": {},
   "outputs": [
    {
     "name": "stdin",
     "output_type": "stream",
     "text": [
      "Enter Your a string:  hotandhot\n",
      "Enter word to find:  hot\n"
     ]
    },
    {
     "name": "stdout",
     "output_type": "stream",
     "text": [
      "your desired occurence 'hot' found first at '0' in 'hotandhot'\n"
     ]
    }
   ],
   "source": [
    "# Taking input from the user. If not entered by the user, use the default sentence.\n",
    "orginal_string = input(\"Enter Your a string: \") or \"hotandhot\"\n",
    "#find the your desire occurence\n",
    "find_occu = input(\"Enter word to find: \") or \"hot\"\n",
    "#using the find function\n",
    "new_string1 = orginal_string.find(find_occu)\n",
    "#comparison if find\n",
    "if new_string1 == -1:\n",
    "    #if new_string1 == -1 then return nothing\n",
    "    print(f\"your desired '{find_occu}' is not found at first position in '{orginal_string}'\")\n",
    "else:\n",
    "    print(f\"your desired occurence '{find_occu}' found first at '{new_string1}' in '{orginal_string}'\")"
   ]
  },
  {
   "cell_type": "code",
   "execution_count": null,
   "id": "ec8726b5-77a4-4fab-848d-a48decb9996e",
   "metadata": {},
   "outputs": [],
   "source": [
    "#13. Find the last occurrence of a word in a string."
   ]
  },
  {
   "cell_type": "code",
   "execution_count": 5,
   "id": "0c6b75b4-4f08-402c-b629-4270d3ff56a2",
   "metadata": {},
   "outputs": [
    {
     "name": "stdin",
     "output_type": "stream",
     "text": [
      "enter any string:  pullandpull\n",
      "enter any word to find:  pull\n"
     ]
    },
    {
     "name": "stdout",
     "output_type": "stream",
     "text": [
      "'pull' found at '7' postion in 'pullandpull'\n"
     ]
    }
   ],
   "source": [
    "#taking a input\n",
    "last_string = input(\"enter any string: \") or \"pullandpull\"\n",
    "#word to find\n",
    "word_to_find = input(\"enter any word to find: \") or \"pull\"\n",
    "#finding at last postion\n",
    "string_position = last_string.rfind(word_to_find)\n",
    "#checking using if condition\n",
    "if string_position != -1:\n",
    "    #if -1 postion then found it now printing\n",
    "    print(f\"'{word_to_find}' found at '{string_position}' postion in '{last_string}'\")\n",
    "else:\n",
    "    #if not found at last the postion then print\n",
    "    print(f\"'{word_to_find}' not found at last postion in '{last_string}'\")"
   ]
  },
  {
   "cell_type": "code",
   "execution_count": null,
   "id": "301ad702-2baf-4b8a-ae74-066fd7bbda29",
   "metadata": {},
   "outputs": [],
   "source": [
    "#14. Split a string into a list of words."
   ]
  },
  {
   "cell_type": "code",
   "execution_count": 7,
   "id": "57af1826-d8ac-4500-8ae2-2ef7b2593a44",
   "metadata": {},
   "outputs": [
    {
     "name": "stdout",
     "output_type": "stream",
     "text": [
      "['Apple', 'Banana', 'Orange', 'Kiwwi', 'Guava']\n"
     ]
    }
   ],
   "source": [
    "#assingn randmom string\n",
    "random_string_12 = \"Apple,Banana,Orange,Kiwwi,Guava\"\n",
    "#now split using split() function\n",
    "spli_rand_string = random_string_12.split(\",\")\n",
    "#now printing the result\n",
    "print(spli_rand_string)"
   ]
  },
  {
   "cell_type": "code",
   "execution_count": null,
   "id": "27a73dff-743e-4990-8f85-35838ec6807d",
   "metadata": {},
   "outputs": [],
   "source": [
    "#15. Join a list of words into a string."
   ]
  },
  {
   "cell_type": "code",
   "execution_count": 9,
   "id": "8f66b4a0-1825-44ab-8bc3-a4a3f86e0cae",
   "metadata": {},
   "outputs": [
    {
     "name": "stdout",
     "output_type": "stream",
     "text": [
      "this is python\n"
     ]
    }
   ],
   "source": [
    "#assuming a random list \n",
    "rand_list = [\"this\",\"is\",\"python\"]\n",
    "#now join using join function\n",
    "joined_list = ' '.join(rand_list)\n",
    "#now printing the result\n",
    "print(joined_list)"
   ]
  },
  {
   "cell_type": "code",
   "execution_count": null,
   "id": "c880adcc-23d2-4189-b34b-6c94bc0b28d1",
   "metadata": {},
   "outputs": [],
   "source": [
    "#16. Convert a string where words are separated by spaces to one where words are separated by underscores."
   ]
  },
  {
   "cell_type": "code",
   "execution_count": 10,
   "id": "f6b9acfe-ddbd-4017-8ab8-b238354276a7",
   "metadata": {},
   "outputs": [
    {
     "name": "stdout",
     "output_type": "stream",
     "text": [
      "22_August_is_today\n"
     ]
    }
   ],
   "source": [
    "#assuming a random sentence\n",
    "rand_sentence = \"22 August is today\"\n",
    "#now replace with _ (Under Score ) using Replace() function\n",
    "repl_sentence = rand_sentence.replace(\" \", \"_\")\n",
    "#now printing the result\n",
    "print(repl_sentence)"
   ]
  },
  {
   "cell_type": "code",
   "execution_count": 11,
   "id": "8d40cd38-f06b-4019-80ca-19f7585274db",
   "metadata": {},
   "outputs": [],
   "source": [
    "#17. Check if a string starts with a specific word or phrase."
   ]
  },
  {
   "cell_type": "code",
   "execution_count": 20,
   "id": "738a797c-2013-4cae-9574-5f9a6498a71a",
   "metadata": {},
   "outputs": [
    {
     "name": "stdin",
     "output_type": "stream",
     "text": [
      "enter any random word or sentence:  hello how are you\n",
      "Enter Desired word to check with starting there:  hello\n"
     ]
    },
    {
     "name": "stdout",
     "output_type": "stream",
     "text": [
      "Yes! 'hello' starting item in 'hello how are you'\n"
     ]
    }
   ],
   "source": [
    "#assuming a word\n",
    "string14 = input(\"enter any random word or sentence: \") or \"Hello How Are you?\"\n",
    "#now assign a varibale that contain that spicific word at starting\n",
    "desire_word = input(\"Enter Desired word to check with starting there: \") or \"Hello\"\n",
    "#now check using startwith() function\n",
    "start_with_string = string14.startswith(desire_word)\n",
    "#compare using if condition\n",
    "if start_with_string:\n",
    "    print(f\"Yes! '{desire_word}' starting item in '{string14}'\")\n",
    "else:\n",
    "    print(f\"No! '{desire_word}' not starting item in '{string14}'\")"
   ]
  },
  {
   "cell_type": "code",
   "execution_count": 21,
   "id": "7f2b35e1-3f75-4467-af81-381af3599181",
   "metadata": {},
   "outputs": [],
   "source": [
    "#18. Check if a string ends with a specific word or phrase."
   ]
  },
  {
   "cell_type": "code",
   "execution_count": 24,
   "id": "b19b144d-5f9b-4f92-9b7c-947efd208ab9",
   "metadata": {},
   "outputs": [
    {
     "name": "stdin",
     "output_type": "stream",
     "text": [
      "Enter any Word or Phrase hello how are you\n",
      "Enter The Word End With:  you\n"
     ]
    },
    {
     "name": "stdout",
     "output_type": "stream",
     "text": [
      "Yes! 'you' end with item in 'hello how are you'\n"
     ]
    }
   ],
   "source": [
    "#assuming a variable with a string \n",
    "string16 = input(\"Enter any Word or Phrase\") or \"Hello are you\"\n",
    "#now check end with word \n",
    "end_with = input(\"Enter The Word End With: \") or \"you\"\n",
    "#now check if end_with value match with end of string16's value\n",
    "end_with_str = string16.endswith(end_with)\n",
    "#now comparison using if condition\n",
    "if end_with_str:\n",
    "    #if getting true then printing yes Message\n",
    "    print(f\"Yes! '{end_with}' end with item in '{string16}'\")\n",
    "else:\n",
    "    print(f\"No! '{end_with}' not end with item in '{string16}'\")"
   ]
  },
  {
   "cell_type": "code",
   "execution_count": 25,
   "id": "3b23dbff-7267-497c-aace-4df3972840b7",
   "metadata": {},
   "outputs": [],
   "source": [
    "#19. Convert a string to title case (e.g., \"hello world\" to \"Hello World\")."
   ]
  },
  {
   "cell_type": "code",
   "execution_count": 27,
   "id": "7e01dd10-19cd-49e3-8fef-a5ca12a86536",
   "metadata": {},
   "outputs": [
    {
     "name": "stdin",
     "output_type": "stream",
     "text": [
      "enter a sentence:  how are you?\n"
     ]
    },
    {
     "name": "stdout",
     "output_type": "stream",
     "text": [
      "How Are You?\n"
     ]
    }
   ],
   "source": [
    "#assuming a random string or get by input\n",
    "without_title = input(\"enter a sentence: \") or \"how are you?\"\n",
    "#converting it tile using title() funtion\n",
    "with_title = without_title.title()\n",
    "#now printingg the result\n",
    "print(with_title)"
   ]
  },
  {
   "cell_type": "code",
   "execution_count": null,
   "id": "f9c1eae4-d137-44cf-b954-17d6ad01ab3c",
   "metadata": {},
   "outputs": [],
   "source": [
    "#20. Find the longest word in a string."
   ]
  },
  {
   "cell_type": "code",
   "execution_count": 4,
   "id": "9ebd86fb-3686-4021-9b4d-a217ca18bba3",
   "metadata": {},
   "outputs": [
    {
     "name": "stdout",
     "output_type": "stream",
     "text": [
      "'Longest' is Longest word.\n"
     ]
    }
   ],
   "source": [
    "#assign a sentence\n",
    "sentence = \"India is 7th Longest Country In The World\"\n",
    "#split the sentence to split to count len\n",
    "split_sentence = sentence.split()\n",
    "#initilize \"\" longest word\n",
    "longest_word = \"\"\n",
    "#initilize max word's length is 0\n",
    "max_length = 0\n",
    "#looping through split snetnece\n",
    "for new_word in split_sentence:\n",
    "    #store each time if new word comes with longest\n",
    "    if len(new_word) > max_length:\n",
    "        max_length = len(new_word)\n",
    "        longest_word = new_word\n",
    "    #now printing the result\n",
    "print(f\"'{longest_word}' is Longest word.\")"
   ]
  },
  {
   "cell_type": "code",
   "execution_count": 5,
   "id": "091927e6-68f6-4306-a329-d2445bd40f91",
   "metadata": {},
   "outputs": [],
   "source": [
    "#21. Find the shortest word in a string."
   ]
  },
  {
   "cell_type": "code",
   "execution_count": 2,
   "id": "256bc4b7-a4c2-48f1-8e5c-9f21debb30b5",
   "metadata": {},
   "outputs": [
    {
     "name": "stdout",
     "output_type": "stream",
     "text": [
      "shortest word is 'is' in 'Oceania is smallest continet in the world'\n"
     ]
    }
   ],
   "source": [
    "#assuming a sentence\n",
    "string_18 = \"Oceania is smallest continet in the world\"\n",
    "#split string_18 to treat as the words\n",
    "string_18_split = string_18.split()\n",
    "#initilize shortest word as None\n",
    "shortest_word = None\n",
    "#initilize shortest word count as infinite\n",
    "s_word_len = float(\"inf\")\n",
    "#iterate through each word\n",
    "for s_word in string_18_split:\n",
    "    #comparison len\n",
    "    if len(s_word) < s_word_len:\n",
    "        #assign s_word_len from s_word's len\n",
    "        s_word_len = len(s_word)\n",
    "        #overtaking shortest word in shortest_word variable\n",
    "        shortest_word = s_word\n",
    "#printing the result\n",
    "print(f\"shortest word is '{shortest_word}' in '{string_18}'\")"
   ]
  },
  {
   "cell_type": "code",
   "execution_count": 6,
   "id": "db1941ee-9e84-4a66-b6e8-92864faa0bfe",
   "metadata": {},
   "outputs": [
    {
     "name": "stdin",
     "output_type": "stream",
     "text": [
      "Enter the String:  Lucknow Located in Uttart Prades\n"
     ]
    },
    {
     "name": "stdout",
     "output_type": "stream",
     "text": [
      "Prades Uttart in Located Lucknow\n"
     ]
    }
   ],
   "source": [
    "#22. Reverse the order of words in a string.\n",
    "#assuming a sentence\n",
    "sentence10 = input(\"Enter the String: \") or \"Lucknow Located in Uttart Pradesh\"\n",
    "#now convert in to word\n",
    "sentence_split = sentence10.split()\n",
    "#now reverse the sentence using slicing\n",
    "sentence_rev = sentence_split[::-1]\n",
    "#now remove the comma \n",
    "sentence_reved = ' '.join(sentence_rev)\n",
    "#now printing the result\n",
    "print(sentence_reved)"
   ]
  },
  {
   "cell_type": "code",
   "execution_count": 9,
   "id": "dc8af2bf-d0ee-42c2-a970-efe4a0b325dc",
   "metadata": {},
   "outputs": [
    {
     "name": "stdin",
     "output_type": "stream",
     "text": [
      "Enter The in String:  howare12\n"
     ]
    },
    {
     "name": "stdout",
     "output_type": "stream",
     "text": [
      "Yes! 'howare12' is Alpha Numeric\n"
     ]
    }
   ],
   "source": [
    "#23. Check if a string is alphanumeric.\n",
    "#assuming the word\n",
    "string_136 = input(\"Enter The in String: \") or \"Hello12\"\n",
    "#now checking the string\n",
    "string_137 = string_136.isalnum()\n",
    "#now printing the result\n",
    "if string_137:\n",
    "    #printing the result\n",
    "    print(f\"Yes! '{string_136}' is Alpha Numeric\")\n",
    "else:\n",
    "    #printing negative the result\n",
    "    print(f\"No! '{string_136}' is not Alpha Numeric\")"
   ]
  },
  {
   "cell_type": "code",
   "execution_count": 13,
   "id": "cb10c07e-ff2f-42f7-a516-fb0f1b300f89",
   "metadata": {},
   "outputs": [
    {
     "name": "stdout",
     "output_type": "stream",
     "text": [
      "Extracted Digit:  124\n"
     ]
    }
   ],
   "source": [
    "#24. Extract all digits from a string.\n",
    "#assuming the word\n",
    "string_138 = input(\"Enter any string: \") or \"how1are2you4\"\n",
    "#assing digit as initialize\n",
    "digit_1 = \"\"\n",
    "#itrate through string_138\n",
    "for dig_it in string_138:\n",
    "    #if digit in string_138\n",
    "    if dig_it.isdigit():\n",
    "        #store digit if foinf\n",
    "        digit_1 += dig_it\n",
    "#printing the result\n",
    "print(\"Extracted Digit: \", digit_1)"
   ]
  },
  {
   "cell_type": "code",
   "execution_count": 14,
   "id": "1a35e979-be63-4a31-a5c6-64ce483837f1",
   "metadata": {},
   "outputs": [
    {
     "name": "stdin",
     "output_type": "stream",
     "text": [
      "Enter The String:  h2u4h3h4\n"
     ]
    },
    {
     "name": "stdout",
     "output_type": "stream",
     "text": [
      "Extracted Alphabet:  huhh\n"
     ]
    }
   ],
   "source": [
    "#25. Extract all alphabets from a string.\n",
    "#assuming the word\n",
    "string_139 = input(\"Enter The String: \") or \"kwhru3y8ru3\"\n",
    "#assing alpha blank\n",
    "alpha_is = \"\"\n",
    "#iterate through string_139\n",
    "for alpha_bet in string_139:\n",
    "    #if alpha in string_139\n",
    "    if alpha_bet.isalpha():\n",
    "        #storing alphabet in alpha_bet\n",
    "        alpha_is += alpha_bet\n",
    "#printing the result\n",
    "print(\"Extracted Alphabet: \", alpha_is)"
   ]
  },
  {
   "cell_type": "code",
   "execution_count": 15,
   "id": "8e85826d-a886-4f29-96e2-e53c7a78dcd5",
   "metadata": {},
   "outputs": [
    {
     "name": "stdin",
     "output_type": "stream",
     "text": [
      "Enter The String:  TUG&tgeG\n"
     ]
    },
    {
     "name": "stdout",
     "output_type": "stream",
     "text": [
      "TUGG\n"
     ]
    }
   ],
   "source": [
    "#26. Count the number of uppercase letters in a string.\n",
    "#assuming or collect a string\n",
    "string_120 = input(\"Enter The String: \") or \"TYhheh How jiUsfj\"\n",
    "#assing blank upper case\n",
    "upper_case = \"\"\n",
    "# itterate through string_120\n",
    "for uppercase in string_120:\n",
    "    #if find uppercase\n",
    "    if uppercase.isupper():\n",
    "        #increament in upper_case\n",
    "        upper_case += uppercase\n",
    "#printing the result\n",
    "print(upper_case)"
   ]
  },
  {
   "cell_type": "code",
   "execution_count": 17,
   "id": "615dba03-f95d-44ca-a813-8cdbdec1f360",
   "metadata": {},
   "outputs": [
    {
     "name": "stdin",
     "output_type": "stream",
     "text": [
      "Enter The String:  DHugygWFF\n"
     ]
    },
    {
     "name": "stdout",
     "output_type": "stream",
     "text": [
      "ugyg\n"
     ]
    }
   ],
   "source": [
    "#27. Count the number of lowercase letters in a string.\n",
    "#assuming or collect a string\n",
    "string_121 = input(\"Enter The String: \") or \"wbYYWGEdjBDf\"\n",
    "#assing blank lower case\n",
    "lower_case = \"\"\n",
    "# itterate through string_121\n",
    "for lowercase in string_121:\n",
    "    #if find lowercase\n",
    "    if lowercase.islower():\n",
    "        #increament in lowercase\n",
    "        lower_case += lowercase\n",
    "#printing the result\n",
    "print(lower_case)"
   ]
  },
  {
   "cell_type": "code",
   "execution_count": 19,
   "id": "da0581b0-0162-421f-b584-92d1e285f11e",
   "metadata": {},
   "outputs": [
    {
     "name": "stdin",
     "output_type": "stream",
     "text": [
      "Enter any String:  hELLO hOW aRE yOU?\n"
     ]
    },
    {
     "name": "stdout",
     "output_type": "stream",
     "text": [
      "Hello How Are You?\n"
     ]
    }
   ],
   "source": [
    "#28. Swap the case of each character in a string.\n",
    "#assuming the word or collect the word\n",
    "string_432 = input(\"Enter any String: \") or \"heLLo hOw aRe You?\"\n",
    "# run swapfunction\n",
    "swap_case = string_432.swapcase()\n",
    "#printing the result\n",
    "print(swap_case)"
   ]
  },
  {
   "cell_type": "code",
   "execution_count": 8,
   "id": "e81bb5a9-5df4-44d9-9889-5b8e39eb7af8",
   "metadata": {},
   "outputs": [
    {
     "name": "stdin",
     "output_type": "stream",
     "text": [
      "Enter any string:  how is are you?\n",
      "Enter The word that you want to remove from string_133:  is\n"
     ]
    },
    {
     "name": "stdout",
     "output_type": "stream",
     "text": [
      "how  are you?\n"
     ]
    }
   ],
   "source": [
    "#29. Remove a specific word from a string.\n",
    "#assuming word or collect from user\n",
    "string_133 = input(\"Enter any string: \") or \"How is are you?\"\n",
    "#word to want remove\n",
    "remove_word = input(\"Enter The word that you want to remove from string_133: \") or \"is\"\n",
    "# split string_133 to working as word\n",
    "splitting_word = string_133.split()\n",
    "#now iterate through spliting word\n",
    "result_string = ' '.join(word4 if word4 != remove_word else '' for word4 in splitting_word)\n",
    "#printing the result\n",
    "print(result_string)"
   ]
  },
  {
   "cell_type": "code",
   "execution_count": 3,
   "id": "18754b6c-7a66-44d3-b4bc-4df9628a4f2d",
   "metadata": {},
   "outputs": [
    {
     "name": "stdin",
     "output_type": "stream",
     "text": [
      "Enter Your Email Here:  adityadav.deo@gmail.com\n"
     ]
    },
    {
     "name": "stdout",
     "output_type": "stream",
     "text": [
      "Your Email 'adityadav.deo@gmail.com' is Valid.\n"
     ]
    }
   ],
   "source": [
    "#30. Check if a string is a valid email address.\n",
    "# first importing here re packege for regex\n",
    "import re\n",
    "#collecting user email\n",
    "user_email = input(\"Enter Your Email Here: \") or \"youremail123@yahoo.com\"\n",
    "#condition for email using regular expression\n",
    "email_cond =  pattern = r'^[a-zA-Z0-9_.+-]+@[a-zA-Z0-9-]+\\.[a-zA-Z0-9-.]+$'\n",
    "#check result is true or false using if else statement\n",
    "if re.match(email_cond, user_email):\n",
    "    #priting positive result\n",
    "    print(f\"Your Email '{user_email}' is Valid.\")\n",
    "else:\n",
    "    # printing negative \n",
    "    print(f\"Your Email '{user_email}' is not valid\")"
   ]
  },
  {
   "cell_type": "code",
   "execution_count": 4,
   "id": "1cae11ca-5c17-4d09-9b30-2de8bf42a633",
   "metadata": {},
   "outputs": [
    {
     "name": "stdin",
     "output_type": "stream",
     "text": [
      "Enter Your Email ID:  bmyadav123@gmail.com\n"
     ]
    },
    {
     "name": "stdout",
     "output_type": "stream",
     "text": [
      "Your Username is bmyadav123\n"
     ]
    }
   ],
   "source": [
    "#31. Extract the username from an email address string.\n",
    "#collecting the email address\n",
    "user_email_2 = input(\"Enter Your Email ID: \") or \"bmyadav@yahoo.com\"\n",
    "#now collect username before at '@'\n",
    "user_name = user_email_2.split('@')[0]\n",
    "#now printing the user name\n",
    "print(\"Your Username is\", user_name)"
   ]
  },
  {
   "cell_type": "code",
   "execution_count": 6,
   "id": "464672ff-8a2b-4daa-a76a-4000529d6c3f",
   "metadata": {},
   "outputs": [
    {
     "name": "stdin",
     "output_type": "stream",
     "text": [
      "Enter Email ID:  sajena123@forbes.com\n"
     ]
    },
    {
     "name": "stdout",
     "output_type": "stream",
     "text": [
      "Domain is  forbes.com\n"
     ]
    }
   ],
   "source": [
    "#32. Extract the domain name from an email address string.\n",
    "# collecting email address \n",
    "user_email_3 = input(\"Enter Email ID: \") or \"aadityadav22@yahoo.com\"\n",
    "#now extract the domain after split and get [1] position\n",
    "domain_name = user_email_3.split('@')[1]\n",
    "# printing the domain name \n",
    "print(\"Domain is \", domain_name)"
   ]
  },
  {
   "cell_type": "code",
   "execution_count": 9,
   "id": "43a90be3-0203-4bda-9d1f-5ad6fd8d711c",
   "metadata": {},
   "outputs": [
    {
     "name": "stdout",
     "output_type": "stream",
     "text": [
      "with single space:  how much money do you have right now?\n"
     ]
    }
   ],
   "source": [
    "#33. Replace multiple spaces in a string with a single space.\n",
    "#collecting or assing random string\n",
    "string_125 = \"how much money do you  have right   now?\"\n",
    "#spliting now and join with single space\n",
    "split_string_125 = ' '.join(string_125.split())\n",
    "#printing the result\n",
    "print(\"with single space: \",split_string_125)"
   ]
  },
  {
   "cell_type": "code",
   "execution_count": 14,
   "id": "521d8712-4171-44d5-bafe-63d85d9a4dd2",
   "metadata": {},
   "outputs": [
    {
     "name": "stdin",
     "output_type": "stream",
     "text": [
      "Enter a URL:  https://jupyter.org/try-jupyter/lab/?path=notebooks%2FIntro.ipynb\n"
     ]
    },
    {
     "name": "stdout",
     "output_type": "stream",
     "text": [
      "'https://jupyter.org/try-jupyter/lab/?path=notebooks%2FIntro.ipynb' is a valid URL.\n"
     ]
    }
   ],
   "source": [
    "#34. Check if a string is a valid URL.\n",
    "# importing urllib to exact url validation\n",
    "from urllib.parse import urlparse\n",
    "\n",
    "def is_valid_url(url):\n",
    "    try:\n",
    "        # Parse the URL using urlparse\n",
    "        result = urlparse(url)\n",
    "        \n",
    "        # Check if the scheme and netloc components are present (basic URL validation)\n",
    "        return all([result.scheme, result.netloc])\n",
    "    except ValueError:\n",
    "        # If urlparse raises a ValueError, the URL is not valid\n",
    "        return False\n",
    "\n",
    "# Example usage\n",
    "url_to_check = input(\"Enter a URL: \")\n",
    "if is_valid_url(url_to_check):\n",
    "    print(f\"'{url_to_check}' is a valid URL.\")\n",
    "else:\n",
    "    print(f\"'{url_to_check}' is not a valid URL.\")"
   ]
  },
  {
   "cell_type": "code",
   "execution_count": 16,
   "id": "41e35677-99b8-448b-b321-19ebb9e6e481",
   "metadata": {},
   "outputs": [
    {
     "name": "stdin",
     "output_type": "stream",
     "text": [
      "Enter a URL:  http://www.youtube.com/results?search_query=how+to+check+valid+url+in+python\n"
     ]
    },
    {
     "name": "stdout",
     "output_type": "stream",
     "text": [
      "The protocol of 'http://www.youtube.com/results?search_query=how+to+check+valid+url+in+python' is 'http'.\n"
     ]
    }
   ],
   "source": [
    "#35. Extract the protocol (http or https) from a URL string.\n",
    "def extract_protocol(url):\n",
    "    # Parse the URL using urlparse\n",
    "    parsed_url = urlparse(url)\n",
    "\n",
    "    # Extract the scheme (protocol)\n",
    "    protocol = parsed_url.scheme\n",
    "\n",
    "    return protocol\n",
    "\n",
    "# Example usage\n",
    "url_to_extract = input(\"Enter a URL: \")\n",
    "extracted_protocol = extract_protocol(url_to_extract)\n",
    "\n",
    "if extracted_protocol:\n",
    "    print(f\"The protocol of '{url_to_extract}' is '{extracted_protocol}'.\")\n",
    "else:\n",
    "    print(f\"Invalid URL: '{url_to_extract}'\")"
   ]
  },
  {
   "cell_type": "code",
   "execution_count": 17,
   "id": "7546fbc4-f99f-41d2-866a-c20c696a7f00",
   "metadata": {},
   "outputs": [
    {
     "name": "stdin",
     "output_type": "stream",
     "text": [
      "Enter The String:  Where are Uttar Pradesh Located in India?\n"
     ]
    },
    {
     "name": "stdout",
     "output_type": "stream",
     "text": [
      "{'W': 1, 'h': 2, 'e': 5, 'r': 4, ' ': 6, 'a': 5, 'U': 1, 't': 3, 'P': 1, 'd': 3, 's': 1, 'L': 1, 'o': 1, 'c': 1, 'i': 2, 'n': 2, 'I': 1, '?': 1}\n"
     ]
    }
   ],
   "source": [
    "# 36. Find the frequency of each character in a string.\n",
    "# collecting or assum a random string\n",
    "string_134 = input(\"Enter The String: \") or \"Where are Uttar Pradesh Located in India?\"\n",
    "#now assign a empty dict\n",
    "dic = {}\n",
    "#itterate through string_134\n",
    "for i in string_134:\n",
    "    #now runing if else programm to increament and assing items\n",
    "    if i in dic:\n",
    "        #assing item in dic along with value \n",
    "        dic[i] = dic[i] + 1\n",
    "    else:\n",
    "        dic[i] = 1\n",
    "#now printing the result\n",
    "print(dic)"
   ]
  },
  {
   "cell_type": "code",
   "execution_count": 18,
   "id": "7f7032a9-160c-412b-a8a1-60df46b6f249",
   "metadata": {},
   "outputs": [
    {
     "name": "stdout",
     "output_type": "stream",
     "text": [
      "Original Text: Hello, World! This is an example sentence.\n",
      "Text without Punctuation: Hello World This is an example sentence\n"
     ]
    }
   ],
   "source": [
    "#37. Remove all punctuation from a string.\n",
    "#import string module to remove punctuation\n",
    "import string\n",
    "#runing a funtion\n",
    "def remove_punctuation(input_string):\n",
    "    # Create a translation table with None for each punctuation character\n",
    "    translation_table = str.maketrans(\"\", \"\", string.punctuation)\n",
    "    \n",
    "    # Use translate to remove punctuation from the input string\n",
    "    cleaned_string = input_string.translate(translation_table)\n",
    "    \n",
    "    return cleaned_string\n",
    "\n",
    "# Example usage\n",
    "text_with_punctuation = \"Hello, World! This is an example sentence.\"\n",
    "text_without_punctuation = remove_punctuation(text_with_punctuation)\n",
    "\n",
    "print(f\"Original Text: {text_with_punctuation}\")\n",
    "print(f\"Text without Punctuation: {text_without_punctuation}\")\n"
   ]
  },
  {
   "cell_type": "code",
   "execution_count": 21,
   "id": "66b948f0-7b08-4092-ab64-b12275859a44",
   "metadata": {},
   "outputs": [
    {
     "name": "stdin",
     "output_type": "stream",
     "text": [
      "Enter anythin:  9784454\n"
     ]
    },
    {
     "name": "stdout",
     "output_type": "stream",
     "text": [
      "'9784454' only contained digit\n"
     ]
    }
   ],
   "source": [
    "# 38. Check if a string contains only digits.\n",
    "#taking a input from user or assing randmom value \n",
    "user_input = input(\"Enter anythin: \") or \"79464545\"\n",
    "#checking through isdigit function\n",
    "digit_check = user_input.isdigit()\n",
    "if digit_check:\n",
    "    #printing postive result\n",
    "    print(f\"'{user_input}' only contained digit\")\n",
    "else:\n",
    "    print(user_input, \"not contained digit only or digit\")"
   ]
  },
  {
   "cell_type": "code",
   "execution_count": 26,
   "id": "f1041704-d67d-4ac6-b312-b98c94cc1bf1",
   "metadata": {},
   "outputs": [
    {
     "name": "stdin",
     "output_type": "stream",
     "text": [
      "Enter a anything:  hellow\n"
     ]
    },
    {
     "name": "stdout",
     "output_type": "stream",
     "text": [
      "Yes , 'hellow' is only contained Alphabets\n"
     ]
    }
   ],
   "source": [
    "#39. Check if a string contains only alphabets.\n",
    "#collecting a random string from user\n",
    "user_input_12 = input(\"Enter a anything: \")\n",
    "#check through isalpha function\n",
    "alpha_check = user_input_12.isalpha()\n",
    "#printing the result according if statement\n",
    "if alpha_check:\n",
    "    print(f\"Yes , '{user_input_12}' is only contained Alphabets\")\n",
    "else:\n",
    "    print(f\"No , '{user_input_12}' is not contained only Alphabets or alphabets\")"
   ]
  },
  {
   "cell_type": "code",
   "execution_count": 28,
   "id": "68722d3a-000e-4db0-8ea2-bd9bd47555cc",
   "metadata": {},
   "outputs": [
    {
     "name": "stdout",
     "output_type": "stream",
     "text": [
      "['G', 'o', 'o', 'g', 'l', 'e']\n"
     ]
    }
   ],
   "source": [
    "# 40. Convert a string to a list of characters.\n",
    "# assume a string\n",
    "string_333 = \"Google\"\n",
    "#now convert into the list\n",
    "string_list = list(string_333)\n",
    "#now printing the result\n",
    "print(string_list)"
   ]
  },
  {
   "cell_type": "code",
   "execution_count": 7,
   "id": "e888b9c0-f12e-4ec5-925f-bbf37db7d8ad",
   "metadata": {},
   "outputs": [
    {
     "name": "stdout",
     "output_type": "stream",
     "text": [
      "'sad' and 'ads' are anagrams\n"
     ]
    }
   ],
   "source": [
    "#41. Check if two strings are anagrams.\n",
    "#assuming two string\n",
    "string_one = \"sad\"\n",
    "string_two = \"ads\"\n",
    "#replacing if any spaces\n",
    "string_one = string_one.replace(\" \", \"\")\n",
    "string_two = string_two.replace(\" \", \"\")\n",
    "#convert into the lower case to avoid case-sensitive\n",
    "string_one = string_one.lower()\n",
    "string_two = string_two.lower()\n",
    "#now check the bool result\n",
    "if sorted(string_one) == sorted(string_two):\n",
    "    print(f\"'{string_one}' and '{string_two}' are anagrams\")\n",
    "else:\n",
    "    print(f\"'{string_one}' and '{string_two}' are not anagrams\")"
   ]
  },
  {
   "cell_type": "code",
   "execution_count": 1,
   "id": "e5066a09-88af-4592-bad9-f7fd6d2fb303",
   "metadata": {},
   "outputs": [
    {
     "name": "stdout",
     "output_type": "stream",
     "text": [
      "Plaintext:  Hello, World!\n",
      "Ciphertext: Khoor, Zruog!\n"
     ]
    }
   ],
   "source": [
    "# 42. Encode a string using a Caesar cipher.\n",
    "def caesar_cipher_encode(text, shift):\n",
    "    result = \"\"\n",
    "    \n",
    "    for char in text:\n",
    "        if char.isalpha():\n",
    "            # Determine whether the character is uppercase or lowercase\n",
    "            is_upper = char.isupper()\n",
    "            \n",
    "            # Shift the character by the specified amount\n",
    "            char_code = ord(char)\n",
    "            shifted_code = (char_code - ord('A' if is_upper else 'a') + shift) % 26\n",
    "            encoded_char = chr(shifted_code + ord('A' if is_upper else 'a'))\n",
    "            \n",
    "            result += encoded_char\n",
    "        else:\n",
    "            # Non-alphabetic characters remain unchanged\n",
    "            result += char\n",
    "    \n",
    "    return result\n",
    "# assing value \n",
    "plaintext = \"Hello, World!\"\n",
    "shift_amount = 3\n",
    "ciphertext = caesar_cipher_encode(plaintext, shift_amount)\n",
    "print(f\"Plaintext:  {plaintext}\")\n",
    "print(f\"Ciphertext: {ciphertext}\")"
   ]
  },
  {
   "cell_type": "code",
   "execution_count": 2,
   "id": "ee620c88-d6a2-49a1-bcd9-f9bbf1ba96e9",
   "metadata": {},
   "outputs": [
    {
     "name": "stdout",
     "output_type": "stream",
     "text": [
      "Encoded Text: Khoor, Zruog!\n",
      "Decoded Text: Hello, World!\n"
     ]
    }
   ],
   "source": [
    "# 43. Decode a Caesar cipher encoded string.\n",
    "def caesar_cipher_decode(text, shift):\n",
    "    return caesar_cipher_encode(text, -shift)\n",
    "\n",
    "# assign value:\n",
    "encoded_text = \"Khoor, Zruog!\"\n",
    "shift_amount = 3\n",
    "decoded_text = caesar_cipher_decode(encoded_text, shift_amount)\n",
    "#printing the result\n",
    "print(f\"Encoded Text: {encoded_text}\")\n",
    "print(f\"Decoded Text: {decoded_text}\")"
   ]
  },
  {
   "cell_type": "code",
   "execution_count": 3,
   "id": "f1369f1e-da24-4229-bedb-02359869006a",
   "metadata": {},
   "outputs": [
    {
     "name": "stdout",
     "output_type": "stream",
     "text": [
      "The most frequent word is: This\n"
     ]
    }
   ],
   "source": [
    "# 44. Find the most frequent word in a string.\n",
    "\n",
    "from collections import Counter\n",
    "# function most_frequennt_word\n",
    "def most_frequent_word(text):\n",
    "    # Split the text into words\n",
    "    words = text.split()\n",
    "\n",
    "    # Count the occurrences of each word\n",
    "    word_counts = Counter(words)\n",
    "\n",
    "    # Find the most common word\n",
    "    most_common_word = word_counts.most_common(1)[0][0]\n",
    "\n",
    "    return most_common_word\n",
    "\n",
    "# Eassign value\n",
    "input_text = \"This is an example sentence. This sentence is just an example.\"\n",
    "result = most_frequent_word(input_text)\n",
    "# printing the result \n",
    "print(f\"The most frequent word is: {result}\")"
   ]
  },
  {
   "cell_type": "code",
   "execution_count": 4,
   "id": "6c95f03f-d976-4c14-9e2c-e4c86a1fcd16",
   "metadata": {},
   "outputs": [
    {
     "name": "stdout",
     "output_type": "stream",
     "text": [
      "Unique words in the text: {'just', 'sentence', 'example', 'is', 'sentence.', 'an', 'example.', 'This'}\n"
     ]
    }
   ],
   "source": [
    "# 45. Find all unique words in a string.\n",
    "def unique_words(text):\n",
    "    # Split the text into words\n",
    "    words = text.split()\n",
    "\n",
    "    # Create a set to store unique words\n",
    "    unique_words_set = set(words)\n",
    "\n",
    "    return unique_words_set\n",
    "\n",
    "# Example usage:\n",
    "input_text = \"This is an example sentence. This sentence is just an example.\"\n",
    "result = unique_words(input_text)\n",
    "# printing the result\n",
    "print(f\"Unique words in the text: {result}\")"
   ]
  },
  {
   "cell_type": "code",
   "execution_count": 6,
   "id": "3c64cf90-2c73-4aa9-8f44-2bdf45c3f728",
   "metadata": {},
   "outputs": [
    {
     "name": "stdout",
     "output_type": "stream",
     "text": [
      "Number of syllables: 9\n"
     ]
    }
   ],
   "source": [
    "# 46. Count the number of syllables in a string.\n",
    "import re\n",
    "def count_syllables(word):\n",
    "    # A very basic pattern to identify vowels\n",
    "    vowels = re.findall('[aeiouy]+', word.lower())\n",
    "    return len(vowels)\n",
    "\n",
    "def count_syllables_in_text(text):\n",
    "    words = text.split()\n",
    "    syllable_count = sum(count_syllables(word) for word in words)\n",
    "    return syllable_count\n",
    "\n",
    "# Example usage:\n",
    "input_text = \"This is an example sentence.\"\n",
    "syllable_count = count_syllables_in_text(input_text)\n",
    "# printing the result\n",
    "print(f\"Number of syllables: {syllable_count}\")"
   ]
  },
  {
   "cell_type": "code",
   "execution_count": 7,
   "id": "bea8170a-9346-405f-9555-c0af5f7434cf",
   "metadata": {},
   "outputs": [
    {
     "name": "stdout",
     "output_type": "stream",
     "text": [
      "The string contains special characters.\n"
     ]
    }
   ],
   "source": [
    "# 47. Check if a string contains any special characters.\n",
    "import re\n",
    "\n",
    "def has_special_characters(input_string):\n",
    "    # Define a regular expression pattern for special characters\n",
    "    pattern = re.compile('[!@#$%^&*(),.?\":{}|<>]')\n",
    "    \n",
    "    # Use the pattern to search for special characters in the input string\n",
    "    match = pattern.search(input_string)\n",
    "    \n",
    "    # If a match is found, the string contains special characters\n",
    "    return match is not None\n",
    "\n",
    "# Example usage:\n",
    "input_text = \"This is a string with special characters: !@#$\"\n",
    "result = has_special_characters(input_text)\n",
    "\n",
    "if result:\n",
    "    print(\"The string contains special characters.\")\n",
    "else:\n",
    "    print(\"The string does not contain special characters.\")\n"
   ]
  },
  {
   "cell_type": "code",
   "execution_count": 8,
   "id": "f2bf1a1a-19f4-4511-ba2a-1caa4fd1cdfa",
   "metadata": {},
   "outputs": [
    {
     "name": "stdout",
     "output_type": "stream",
     "text": [
      "Result after removing the 3th word: This is example sentence.\n"
     ]
    }
   ],
   "source": [
    "# 48. Remove the nth word from a string.\n",
    "def remove_nth_word(input_string, n):\n",
    "    # Split the string into words\n",
    "    words = input_string.split()\n",
    "\n",
    "    # Check if the specified index is within the bounds of the list\n",
    "    if 1 <= n <= len(words):\n",
    "        # Remove the nth word from the list\n",
    "        del words[n - 1]\n",
    "\n",
    "        # Join the remaining words back into a string\n",
    "        result_string = ' '.join(words)\n",
    "\n",
    "        return result_string\n",
    "    else:\n",
    "        # Return the original string if the index is out of bounds\n",
    "        return input_string\n",
    "\n",
    "# assign value:\n",
    "input_text = \"This is an example sentence.\"\n",
    "n = 3\n",
    "result = remove_nth_word(input_text, n)\n",
    "\n",
    "print(f\"Result after removing the {n}th word: {result}\")"
   ]
  },
  {
   "cell_type": "code",
   "execution_count": 9,
   "id": "14595186-8b84-4d6e-8e00-234e67bd67ea",
   "metadata": {},
   "outputs": [
    {
     "name": "stdout",
     "output_type": "stream",
     "text": [
      "Result after inserting 'new' at the 3th position: This is an new example sentence.\n"
     ]
    }
   ],
   "source": [
    "# 49. Insert a word at the nth position in a string.\n",
    "def insert_word_at_nth_position(input_string, word_to_insert, n):\n",
    "    # Split the string into words\n",
    "    words = input_string.split()\n",
    "\n",
    "    # Check if the specified index is within the bounds of the list\n",
    "    if 0 <= n <= len(words):\n",
    "        # Insert the word at the nth position in the list\n",
    "        words.insert(n, word_to_insert)\n",
    "\n",
    "        # Join the modified list of words back into a string\n",
    "        result_string = ' '.join(words)\n",
    "\n",
    "        return result_string\n",
    "    else:\n",
    "        # Return the original string if the index is out of bounds\n",
    "        return input_string\n",
    "\n",
    "# assign value:\n",
    "input_text = \"This is an example sentence.\"\n",
    "word_to_insert = \"new\"\n",
    "n = 3\n",
    "result = insert_word_at_nth_position(input_text, word_to_insert, n)\n",
    "\n",
    "print(f\"Result after inserting '{word_to_insert}' at the {n}th position: {result}\")\n"
   ]
  },
  {
   "cell_type": "code",
   "execution_count": 13,
   "id": "afe45a4c-3fb0-437e-9b80-e618a222704a",
   "metadata": {},
   "outputs": [
    {
     "name": "stdout",
     "output_type": "stream",
     "text": [
      "['Sn', ' Name', ' City']\n",
      "['1', ' Aadit Yadav', ' Gorakhpur']\n",
      "['2', ' Ajay Yadav', ' Deoria']\n"
     ]
    }
   ],
   "source": [
    "# 50. Convert a CSV string to a list of lists.\n",
    "def csvs_list(csv_datas):\n",
    "    # spliting where \\n in string\n",
    "    lining = csv_datas.split('\\n')\n",
    "    # initialize a empty list\n",
    "    epmty_list = []\n",
    "    # itterate through lining\n",
    "    for new_line in lining:\n",
    "        # seprate each word into comma\n",
    "        sep_comma = new_line.split(',')\n",
    "        # now append into empty result \n",
    "        epmty_list.append(sep_comma)\n",
    "    return epmty_list\n",
    "#assing csv_datas value\n",
    "csv_datas = \"Sn, Name, City\\n1, Aadit Yadav, Gorakhpur\\n2, Ajay Yadav, Deoria\"\n",
    "# convert csv to string now \n",
    "result_list = csvs_list(csv_datas)\n",
    "\n",
    "for new_row in result_list:\n",
    "    print(new_row)\n"
   ]
  },
  {
   "cell_type": "code",
   "execution_count": null,
   "id": "e095e38f-a225-4b31-93a0-92a37849e9b7",
   "metadata": {},
   "outputs": [],
   "source": [
    "# List Based Practice Problem :"
   ]
  },
  {
   "cell_type": "code",
   "execution_count": 15,
   "id": "5cbb3c20-9cff-4c81-b2e1-23419351eb06",
   "metadata": {},
   "outputs": [
    {
     "name": "stdout",
     "output_type": "stream",
     "text": [
      "[1, 2, 3, 4, 5, 6, 7, 8, 9, 10]\n"
     ]
    }
   ],
   "source": [
    "# 1. Create a list with integers from 1 to 10.\n",
    "#assing value by ranage\n",
    "int_list = list(range(1,11))\n",
    "# printing the list\n",
    "print(int_list)"
   ]
  },
  {
   "cell_type": "code",
   "execution_count": 19,
   "id": "491ee371-de85-4d84-83f4-abeb4bc76454",
   "metadata": {},
   "outputs": [
    {
     "name": "stdout",
     "output_type": "stream",
     "text": [
      "6\n"
     ]
    }
   ],
   "source": [
    "# 2. Find the length of a list without using the `len()` function.\n",
    "#initialize a function\n",
    "def count_list(list_item):\n",
    "    #initilize count as 0\n",
    "    count = 0\n",
    "    # iterate through list_item\n",
    "    for i in list_item:\n",
    "        # increase each time\n",
    "        count +=1\n",
    "    # return to count\n",
    "    return count\n",
    "#assign list_item\n",
    "list_item = [1, 2, 3, 4, 5, 9]\n",
    "# store in length_w_len and run function\n",
    "length_w_len = count_list(list_item)\n",
    "print(length_w_len)"
   ]
  },
  {
   "cell_type": "code",
   "execution_count": 21,
   "id": "7c2309bb-d80d-4d00-95a9-26539af45a7a",
   "metadata": {},
   "outputs": [
    {
     "name": "stdout",
     "output_type": "stream",
     "text": [
      "[1, 2, 3, 4, 5]\n"
     ]
    }
   ],
   "source": [
    "# 3. Append an element to the end of a list.\n",
    "# Make a random list\n",
    "list_1 = [1,2,3,4]\n",
    "#assign a new element\n",
    "new_el = 5\n",
    "# appending to list_1\n",
    "list_1.append(new_el)\n",
    "# printing the result\n",
    "print(list_1)"
   ]
  },
  {
   "cell_type": "code",
   "execution_count": 23,
   "id": "616d8b30-32d3-4cc6-9671-3c3f171d1a33",
   "metadata": {},
   "outputs": [
    {
     "name": "stdout",
     "output_type": "stream",
     "text": [
      "[1, 2, 3, 4, 5]\n"
     ]
    }
   ],
   "source": [
    "# 4. Insert an element at a specific index in a list.\n",
    "# make a random list\n",
    "list_2 = [2,3,4,5]\n",
    "# assing new element to index\n",
    "new_el_2 = 1\n",
    "# insert at 1st postion using insert\n",
    "list_2.insert(0, new_el_2)\n",
    "# pritning the result \n",
    "print(list_2)"
   ]
  },
  {
   "cell_type": "code",
   "execution_count": 24,
   "id": "8494b664-a526-4497-99bd-ec31dddc06ce",
   "metadata": {},
   "outputs": [
    {
     "name": "stdout",
     "output_type": "stream",
     "text": [
      "[1, 2, 3, 4, 5]\n"
     ]
    }
   ],
   "source": [
    "# 5. Remove an element from a list by its value.\n",
    "#make a list\n",
    "list_3 = [1,2,3,4,5,6]\n",
    "# assing remove element\n",
    "rem_element = 6\n",
    "# remove using remove attribute\n",
    "list_3.remove(rem_element)\n",
    "# printing the result\n",
    "print(list_3)"
   ]
  },
  {
   "cell_type": "code",
   "execution_count": 27,
   "id": "48d14502-6fcd-4388-b7c7-c30881af26f2",
   "metadata": {},
   "outputs": [
    {
     "name": "stdout",
     "output_type": "stream",
     "text": [
      "List_4 Value: '[0, 1, 2, 4, 5]'\n",
      "Removed Element:  3\n"
     ]
    }
   ],
   "source": [
    "# 6. Remove an element from a list by its index.\n",
    "# make variable \n",
    "list_4 = [0,1,2,3,4,5]\n",
    "# remove at specific index\n",
    "new_list_4 = list_4.pop(3)\n",
    "# printing the result\n",
    "print(f\"List_4 Value: '{list_4}'\")\n",
    "print(f\"Removed Element: \", new_list_4)"
   ]
  },
  {
   "cell_type": "code",
   "execution_count": 30,
   "id": "00d0e69d-dc12-47a0-8062-0177859f4f50",
   "metadata": {},
   "outputs": [
    {
     "name": "stdout",
     "output_type": "stream",
     "text": [
      "'50' Exist in '[0, 1, 2, 4, 5]'\n"
     ]
    }
   ],
   "source": [
    "# 7. Check if an element exists in a list.\n",
    "list_5 = [10, 20, 30, 50, 60]\n",
    "# assign existing element\n",
    "exist_element = 50\n",
    "# check through if elese condition \n",
    "if exist_element in list_5:\n",
    "    print(f\"'{exist_element}' Exist in '{list_4}'\")\n",
    "else:\n",
    "    print(f\"'{exist_element}' not exist in '{list_4}'\")"
   ]
  },
  {
   "cell_type": "code",
   "execution_count": 34,
   "id": "8a1d3aca-1002-45fc-a91d-880d31049a68",
   "metadata": {},
   "outputs": [
    {
     "name": "stdout",
     "output_type": "stream",
     "text": [
      "'4' is at '4' position in '[1, 1, 2, 3, 4, 4, 5]'\n"
     ]
    }
   ],
   "source": [
    "# 8. Find the index of the first occurrence of an element in a list.\n",
    "list_6 = [1,1,2,3,4, 4, 5]\n",
    "# which element you want to check\n",
    "check_el = 4\n",
    "# retrieve through index attribute\n",
    "index_at = list_6.index(check_el)\n",
    "#printing the result\n",
    "print(f\"'{check_el}' is at '{index_at}' position in '{list_6}'\")"
   ]
  },
  {
   "cell_type": "code",
   "execution_count": 36,
   "id": "b10a067c-208a-4d87-a450-afcd74a63c77",
   "metadata": {},
   "outputs": [
    {
     "name": "stdout",
     "output_type": "stream",
     "text": [
      "'60' is '3' times in '[10, 20, 30, 40, 50, 60, 60, 60]'\n"
     ]
    }
   ],
   "source": [
    "# 9. Count the occurrences of an element in a list.\n",
    "list_7 = [10,20,30,40,50,60,60,60]\n",
    "#count element\n",
    "count_el = 60\n",
    "# count the occurences word using count\n",
    "count_occu = list_7.count(count_el)\n",
    "# printing the result\n",
    "print(f\"'{count_el}' is '{count_occu}' times in '{list_7}'\")"
   ]
  },
  {
   "cell_type": "code",
   "execution_count": 39,
   "id": "133f07e3-ec4e-4fe9-afea-b81b21c932a6",
   "metadata": {},
   "outputs": [
    {
     "name": "stdout",
     "output_type": "stream",
     "text": [
      "[7, 6, 5, 4, 3, 2, 1]\n"
     ]
    }
   ],
   "source": [
    "# 10. Reverse the order of elements in a list.\n",
    "list_8 = [1,2,3,4,5,6,7]\n",
    "# reverse through reverse attribute\n",
    "list_8.reverse()\n",
    "# printing the result \n",
    "print(list_8)"
   ]
  },
  {
   "cell_type": "code",
   "execution_count": 40,
   "id": "14307ec5-e67a-463a-86f2-1465371fc82c",
   "metadata": {},
   "outputs": [
    {
     "name": "stdout",
     "output_type": "stream",
     "text": [
      "[0, 1, 4, 6, 7, 9]\n"
     ]
    }
   ],
   "source": [
    "# 11. Sort a list in ascending order.\n",
    "list_9 = [4,1,6,0,7,9]\n",
    "# accending the order \n",
    "list_9.sort()\n",
    "# printing the result\n",
    "print(list_9)"
   ]
  },
  {
   "cell_type": "code",
   "execution_count": 41,
   "id": "c19a7a9f-9049-4c36-81ca-a0104ca918c7",
   "metadata": {},
   "outputs": [
    {
     "name": "stdout",
     "output_type": "stream",
     "text": [
      "[9, 7, 6, 3, 3, 0]\n"
     ]
    }
   ],
   "source": [
    "# 12. Sort a list in descending order.\n",
    "list_10 = [0,3,6,3,9,7]\n",
    "#decendong the order\n",
    "list_10.sort(reverse=True)\n",
    "# printing the result\n",
    "print(list_10)"
   ]
  },
  {
   "cell_type": "code",
   "execution_count": 44,
   "id": "b5ad3567-bebf-4fc7-ba79-d7e47c34cd4e",
   "metadata": {},
   "outputs": [
    {
     "name": "stdout",
     "output_type": "stream",
     "text": [
      "[2, 4, 6, 8, 10, 12, 14, 16, 18, 20]\n"
     ]
    }
   ],
   "source": [
    "# 13. Create a list of even numbers from 1 to 20.\n",
    "even_list = [num for num in range(2, 21, 2)]\n",
    "# printing the result\n",
    "print(even_list)"
   ]
  },
  {
   "cell_type": "code",
   "execution_count": 45,
   "id": "049068ad-5ac5-4ebd-9bc3-115a91f5c236",
   "metadata": {},
   "outputs": [
    {
     "name": "stdout",
     "output_type": "stream",
     "text": [
      "[1, 3, 5, 7, 9, 11, 13, 15, 17, 19]\n"
     ]
    }
   ],
   "source": [
    "# 14. Create a list of odd numbers from 1 to 20.\n",
    "odd_list = [oddn for oddn in range(1,21,2)]\n",
    "# printing the result\n",
    "print(odd_list)"
   ]
  },
  {
   "cell_type": "code",
   "execution_count": 48,
   "id": "5210287c-7ab8-4306-9658-ed7fdc2b7d20",
   "metadata": {},
   "outputs": [
    {
     "name": "stdout",
     "output_type": "stream",
     "text": [
      "'150' sum of '[10, 20, 30, 50, 33, 5, 2]'\n"
     ]
    }
   ],
   "source": [
    "# 15. Find the sum of all elements in a list.\n",
    "list_14 = [10,20,30,50,33,5,2]\n",
    "# sum list_14 using sum function\n",
    "sum_list_14 = sum(list_14)\n",
    "# printing the result\n",
    "print(f\"'{sum_list_14}' sum of '{list_14}'\")"
   ]
  },
  {
   "cell_type": "code",
   "execution_count": 49,
   "id": "9b532272-77b7-49f4-9d92-b4ef744a19e8",
   "metadata": {},
   "outputs": [
    {
     "name": "stdout",
     "output_type": "stream",
     "text": [
      "'88' is max value in '[22, 39, 2, 4, 88]'\n"
     ]
    }
   ],
   "source": [
    "# 16. Find the maximum value in a list.\n",
    "list_15 = [22,39,2,4,88]\n",
    "# use max funtion to find max value\n",
    "max_in_list_15 = max(list_15)\n",
    "# printing the result\n",
    "print(f\"'{max_in_list_15}' is max value in '{list_15}'\")"
   ]
  },
  {
   "cell_type": "code",
   "execution_count": 50,
   "id": "f3a4dfcf-7f6a-407f-8cd4-f4ac90879496",
   "metadata": {},
   "outputs": [
    {
     "name": "stdout",
     "output_type": "stream",
     "text": [
      "'1' is min value in '[1, 4, 55, 33, 2, 88]'\n"
     ]
    }
   ],
   "source": [
    "# 17. Find the minimum value in a list.\n",
    "list_16 = [1,4,55,33,2,88]\n",
    "# use min funtion to find minimum value\n",
    "min_in_list_16 = min(list_16)\n",
    "# printing the result\n",
    "print(f\"'{min_in_list_16}' is min value in '{list_16}'\")"
   ]
  },
  {
   "cell_type": "code",
   "execution_count": 55,
   "id": "e22099df-a569-4743-b62d-c04396e137e0",
   "metadata": {},
   "outputs": [
    {
     "name": "stdout",
     "output_type": "stream",
     "text": [
      "[1, 4, 9, 16, 25, 36, 49, 64, 81]\n"
     ]
    }
   ],
   "source": [
    "# 18. Create a list of squares of numbers from 1 to 10.\n",
    "square_list = [nums **2 for nums in range(1,10)]\n",
    "#print result\n",
    "print(square_list)"
   ]
  },
  {
   "cell_type": "code",
   "execution_count": 62,
   "id": "445129a5-81b3-4f0a-8496-664e156040e0",
   "metadata": {},
   "outputs": [
    {
     "name": "stdout",
     "output_type": "stream",
     "text": [
      "[47, 17, 28, 9, 54, 88, 60, 72, 57, 11]\n"
     ]
    }
   ],
   "source": [
    "# 19. Create a list of random numbers.\n",
    "# import random function\n",
    "import random\n",
    "#make a variable and assign value\n",
    "random_list = [random.randint(1,100) for _ in range(10)]\n",
    "# printing the result\n",
    "print(random_list)"
   ]
  },
  {
   "cell_type": "code",
   "execution_count": 63,
   "id": "2eee990e-ba84-4434-96b7-1d59528a7d6d",
   "metadata": {},
   "outputs": [
    {
     "name": "stdout",
     "output_type": "stream",
     "text": [
      "[1, 2, 4, 5, 6, 7]\n"
     ]
    }
   ],
   "source": [
    "# 20. Remove duplicates from a list.\n",
    "list_17 = [1,1,1,2,2,4,4,5,6,7]\n",
    "# converting to set list to remove duplicate and again back to list\n",
    "rem_dup_list_17 = list(set(list_17))\n",
    "print(rem_dup_list_17)"
   ]
  },
  {
   "cell_type": "code",
   "execution_count": 66,
   "id": "a7051d8a-51fe-42da-b00c-b5e9e6a3de0d",
   "metadata": {},
   "outputs": [
    {
     "name": "stdout",
     "output_type": "stream",
     "text": [
      "Most Common Word:  [3, 4]\n"
     ]
    }
   ],
   "source": [
    "# 21. Find the common elements between two lists.\n",
    "list_18 = [1,3,4,5]\n",
    "list_19 = [2,3,6,4]\n",
    "# converting each to set to find common and again back it to list\n",
    "common_element = list(set(list_18) & set(list_19))\n",
    "# printing the result\n",
    "print(\"Most Common Word: \", common_element)"
   ]
  },
  {
   "cell_type": "code",
   "execution_count": 67,
   "id": "2e239456-572a-4259-8af9-352517276a45",
   "metadata": {},
   "outputs": [
    {
     "name": "stdout",
     "output_type": "stream",
     "text": [
      "Different: '[40, 50, 20, 30]'\n"
     ]
    }
   ],
   "source": [
    "# 22. Find the difference between two lists.\n",
    "list_20 = [10,20,30,40,50]\n",
    "list_21 = [10,60,70,80,100]\n",
    "#converting set and find diffrence using diffrence method the convert it to back in list\n",
    "diffrent_list = list(set(list_20) - set(list_21))\n",
    "# printing the result\n",
    "print(f\"Different: '{diffrent_list}'\")"
   ]
  },
  {
   "cell_type": "code",
   "execution_count": 69,
   "id": "36b68deb-e131-4ee5-ad20-be248f5108a3",
   "metadata": {},
   "outputs": [
    {
     "name": "stdout",
     "output_type": "stream",
     "text": [
      "Merged String:  [10, 20, 30, 40, 50]\n"
     ]
    }
   ],
   "source": [
    "# 23. Merge two lists.\n",
    "list_22 = [10,20,30]\n",
    "list_23 = [40,50]\n",
    "# merge list_22 and list_23 using + operator\n",
    "merged_list = list_22 + list_23\n",
    "# print the result\n",
    "print(\"Merged String: \", merged_list)"
   ]
  },
  {
   "cell_type": "code",
   "execution_count": null,
   "id": "ebfb1212-8504-4890-b939-79f72d0227a4",
   "metadata": {},
   "outputs": [],
   "source": [
    "# 24. Multiply all elements in a list by 2."
   ]
  },
  {
   "cell_type": "code",
   "execution_count": 70,
   "id": "47771acf-12e2-4b91-95f3-3f66b13dd5b2",
   "metadata": {},
   "outputs": [
    {
     "name": "stdout",
     "output_type": "stream",
     "text": [
      "[4, 8, 10, 12, 16, 20]\n"
     ]
    }
   ],
   "source": [
    "list_24 = [2,4,5,6,8,10]\n",
    "# multiply 2 each element\n",
    "mul_list_24 = [x*2 for x in list_24]\n",
    "# printing result\n",
    "print(mul_list_24)"
   ]
  },
  {
   "cell_type": "code",
   "execution_count": 74,
   "id": "f492ac87-1051-4874-9e91-01b3bafd260c",
   "metadata": {},
   "outputs": [
    {
     "name": "stdout",
     "output_type": "stream",
     "text": [
      "Given Number:  [1, 2, 3, 4, 5, 6, 7, 8, 9, 10]\n",
      "Filter Out Even Number:  [1, 3, 5, 7, 9]\n"
     ]
    }
   ],
   "source": [
    "# 25. Filter out all even numbers from a list.\n",
    "list_25 = [1,2,3,4,5,6,7,8,9,10]\n",
    "# filtered list with even number\n",
    "even_list_25 = [x for x in list_25 if x % 2 !=0]\n",
    "# original list\n",
    "print(\"Given Number: \",list_25)\n",
    "# even number\n",
    "print(\"Filter Out Even Number: \",even_list_25)"
   ]
  },
  {
   "cell_type": "code",
   "execution_count": 78,
   "id": "db9bbbcd-e446-4630-8780-b820ee5e1d13",
   "metadata": {},
   "outputs": [
    {
     "name": "stdout",
     "output_type": "stream",
     "text": [
      "[1, 2, 3, 5]\n"
     ]
    }
   ],
   "source": [
    "# 26. Convert a list of strings to a list of integers.\n",
    "list_26 = [\"1\", \"2\", \"3\", \"5\"]\n",
    "# converting to pure integer\n",
    "int_list_26 = [int(x) for x in list_26]\n",
    "# print result\n",
    "print(int_list_26)"
   ]
  },
  {
   "cell_type": "code",
   "execution_count": 79,
   "id": "4f06be34-f6c7-428a-9642-f6f6db0b8a9d",
   "metadata": {},
   "outputs": [
    {
     "name": "stdout",
     "output_type": "stream",
     "text": [
      "['1', '2', '3', '4', '5']\n"
     ]
    }
   ],
   "source": [
    "# 27. Convert a list of integers to a list of strings.\n",
    "list_27 = [1,2,3,4,5]\n",
    "# converting to string from integer\n",
    "str_list_27 = [str(y) for y in list_27]\n",
    "# print the result\n",
    "print(str_list_27)"
   ]
  },
  {
   "cell_type": "code",
   "execution_count": 81,
   "id": "78db1239-5c20-4986-bfb2-0ccd19b57e28",
   "metadata": {},
   "outputs": [
    {
     "name": "stdout",
     "output_type": "stream",
     "text": [
      "flatten list: '[1, 2, 3, 4, 5, 6, 7, 8, 9, 10]'\n"
     ]
    }
   ],
   "source": [
    "# 28. Flatten a nested list.\n",
    "def flattenlist(flattenlist_var):\n",
    "    # assing empty a list var \n",
    "    new_list = []\n",
    "    # iterate through flattenlist_var\n",
    "    for x in flattenlist_var:\n",
    "        # if x type is list then extend\n",
    "        if type(x) is list:\n",
    "            new_list.extend(flattenlist(x))\n",
    "        else:\n",
    "            new_list.append(x)\n",
    "    return new_list\n",
    "# assing value to flattenlist_var\n",
    "flattenlist_var = [1,2,3, [4,5,6],7,8,[9,10]]\n",
    "print(f\"flatten list: '{flattenlist(flattenlist_var)}'\")"
   ]
  },
  {
   "cell_type": "code",
   "execution_count": 84,
   "id": "f1645d68-dc41-40fa-b6c4-7309b1f9d4c3",
   "metadata": {},
   "outputs": [
    {
     "name": "stdout",
     "output_type": "stream",
     "text": [
      "1\n",
      "2\n",
      "3\n",
      "5\n",
      "8\n",
      "13\n",
      "21\n",
      "34\n",
      "55\n",
      "89\n"
     ]
    }
   ],
   "source": [
    "# 29. Create a list of the first 10 Fibonacci numbers.\n",
    "def fibonacci(n):\n",
    "    # assing 0 and 1 \n",
    "    num1 = 0\n",
    "    num2 = 1\n",
    "    for i in range(0,n):\n",
    "        num3 = num1 + num2\n",
    "        # swap the variable\n",
    "        num1 = num2\n",
    "        num2 = num3\n",
    "        # print num 3 \n",
    "        print(num3)\n",
    "# run function fibonacci\n",
    "fibonacci(10)"
   ]
  },
  {
   "cell_type": "code",
   "execution_count": 97,
   "id": "8e1ef98f-0f6d-4b02-846f-564dbbfce30b",
   "metadata": {},
   "outputs": [
    {
     "name": "stdout",
     "output_type": "stream",
     "text": [
      "'[0, 2, 3, 5, 6]' is sorted\n"
     ]
    }
   ],
   "source": [
    "# 30. Check if a list is sorted. \n",
    "def is_shorted(list2):\n",
    "    # iterate through list2\n",
    "    for x in range(1, len(list2)):\n",
    "        # check each value if less then each\n",
    "        if list2[x] < list2[x - 1]:\n",
    "            return False\n",
    "    return True\n",
    "# assign value to list2\n",
    "list2 = [0,2,3,5,6]\n",
    "# call function\n",
    "if is_shorted(list2):\n",
    "    print(f\"'{list2}' is sorted\")\n",
    "else:\n",
    "    print(f\"'{list2}' is not sorted\")"
   ]
  },
  {
   "cell_type": "code",
   "execution_count": 100,
   "id": "4e454b67-471a-4c03-9e60-0b5796e6d46c",
   "metadata": {},
   "outputs": [
    {
     "name": "stdin",
     "output_type": "stream",
     "text": [
      "Enter N Value 2\n"
     ]
    },
    {
     "name": "stdout",
     "output_type": "stream",
     "text": [
      "Orginal List:  [1, 2, 3, 4, 5]\n",
      "Rotate to Left:  [3, 4, 5, 1, 2]\n"
     ]
    }
   ],
   "source": [
    "# 31. Rotate a list to the left by `n` positions.\n",
    "def left_rotate(list3, n):\n",
    "     # Calculate the effective rotation index\n",
    "    n = n % len(list3)\n",
    "    # using the slicing method to rotate\n",
    "    rotate_list = list3[n:] + list3[:n]\n",
    "    return rotate_list\n",
    "# assing value\n",
    "list3 = [1,2,3,4,5]\n",
    "# assin or collecting n value\n",
    "n = int(input(\"Enter N Value\")) or 2\n",
    "print(\"Orginal List: \",list3)\n",
    "print(\"Rotate to Left: \",left_rotate(list3, n))"
   ]
  },
  {
   "cell_type": "code",
   "execution_count": 104,
   "id": "039458bb-b66d-4237-a6f8-74c24432766a",
   "metadata": {},
   "outputs": [
    {
     "name": "stdin",
     "output_type": "stream",
     "text": [
      "Enter N value:  3\n"
     ]
    },
    {
     "name": "stdout",
     "output_type": "stream",
     "text": [
      "Orginal Value:  [1, 2, 3, 4, 5, 6]\n",
      "Rotate to right:  [4, 5, 6, 1, 2, 3]\n"
     ]
    }
   ],
   "source": [
    "# 32. Rotate a list to the right by `n` positions.\n",
    "def right_rotate(list4, n):\n",
    "    # Calculate the effective rotation index\n",
    "    n = n % len(list4)\n",
    "    # using slice method to rotate\n",
    "    rotate_list = list4[-n:] + list4[:-n]\n",
    "    return rotate_list\n",
    "# assing value to list4\n",
    "list4 = [1,2,3,4,5,6]\n",
    "# ask n value\n",
    "n = int(input(\"Enter N value: \")) or 2\n",
    "# run and print function\n",
    "print(\"Orginal Value: \",list4)\n",
    "print(\"Rotate to right: \",right_rotate(list4, n))"
   ]
  },
  {
   "cell_type": "code",
   "execution_count": 111,
   "id": "1bf1c041-a6b5-4d5d-8454-20cd6829270d",
   "metadata": {},
   "outputs": [
    {
     "name": "stdout",
     "output_type": "stream",
     "text": [
      "2 3 5 7 11 13 17 19 23 29 31 37 41 43 47 "
     ]
    }
   ],
   "source": [
    "# 33. Create a list of prime numbers up to 50.\n",
    "# Iterate through 0 to 50\n",
    "for i in range(2, 51):\n",
    "    flag = 0\n",
    "    # Check for factors\n",
    "    for j in range(2, int(i**0.5) + 1):\n",
    "        if i % j == 0:\n",
    "            flag = 1\n",
    "            break\n",
    "    # If flag is still 0, i is a prime number\n",
    "    if flag == 0:\n",
    "        print(i, end=' ')"
   ]
  },
  {
   "cell_type": "code",
   "execution_count": 6,
   "id": "7502c450-3385-4c82-a72a-e49c0e6ce0f5",
   "metadata": {},
   "outputs": [
    {
     "name": "stdout",
     "output_type": "stream",
     "text": [
      "Original List: [1, 2, 3, 4, 5, 6, 7, 8, 9, 10]\n",
      "Chunks of size 3: [[1, 2, 3], [4, 5, 6], [7, 8, 9], [10]]\n"
     ]
    }
   ],
   "source": [
    "# 34. Split a list into chunks of size `n`.\n",
    "def split_into_chunks(lst, n):\n",
    "    return [lst[i:i + n] for i in range(0, len(lst), n)]\n",
    "\n",
    "# assing to variable\n",
    "original_list = [1, 2, 3, 4, 5, 6, 7, 8, 9, 10]\n",
    "chunk_size = 3\n",
    "# run function\n",
    "chunks = split_into_chunks(original_list, chunk_size)\n",
    "print(\"Original List:\", original_list)\n",
    "print(f\"Chunks of size {chunk_size}:\", chunks)"
   ]
  },
  {
   "cell_type": "code",
   "execution_count": 14,
   "id": "ef487cfb-a84e-4152-9bba-abff0a19baab",
   "metadata": {},
   "outputs": [
    {
     "name": "stdout",
     "output_type": "stream",
     "text": [
      "Second Largest Number:  77\n"
     ]
    }
   ],
   "source": [
    "# 35. Find the second largest number in a list.\n",
    "list9 = [3,8,3,33,65,77,11,3,5,89,50]\n",
    "# remove duplicate number using set\n",
    "list9 = list(set(list9))\n",
    "# Sort to accending number\n",
    "list9.sort()\n",
    "# access second largest number\n",
    "print(\"Second Largest Number: \",list9[-2])"
   ]
  },
  {
   "cell_type": "code",
   "execution_count": 16,
   "id": "8bcb835d-a4df-46b2-a968-1cd45a0e0600",
   "metadata": {},
   "outputs": [
    {
     "name": "stdout",
     "output_type": "stream",
     "text": [
      "Square Value:  [4, 16, 25, 36, 64, 100]\n"
     ]
    }
   ],
   "source": [
    "# 36. Replace every element in a list with its square.\n",
    "list10 = [2,4,5,6,8,10]\n",
    "# square each element\n",
    "square_ele = [x**2 for x in list10]\n",
    "# print the value\n",
    "print(\"Square Value: \", square_ele)"
   ]
  },
  {
   "cell_type": "code",
   "execution_count": 17,
   "id": "eb30270a-f6ee-4c3d-a58a-c6181796eee9",
   "metadata": {},
   "outputs": [
    {
     "name": "stdout",
     "output_type": "stream",
     "text": [
      "{'apple': 0, 'banana': 1, 'orange': 2, 'grape': 3}\n"
     ]
    }
   ],
   "source": [
    "# 37. Convert a list to a dictionary where list elements become keys and their indices become values.\n",
    "my_list = ['apple', 'banana', 'orange', 'grape']\n",
    "\n",
    "# Convert list to dictionary\n",
    "my_dict = {value: index for index, value in enumerate(my_list)}\n",
    "\n",
    "# Print the resulting dictionary\n",
    "print(my_dict)"
   ]
  },
  {
   "cell_type": "code",
   "execution_count": 22,
   "id": "4b8a527e-85b9-4e10-82c1-8b90066cb104",
   "metadata": {},
   "outputs": [
    {
     "name": "stdout",
     "output_type": "stream",
     "text": [
      "[9, 1, 7, 8, 3, 2, 6, 4, 5, 10]\n"
     ]
    }
   ],
   "source": [
    "# 38. Shuffle the elements of a list randomly.\n",
    "\n",
    "# importing randmom package\n",
    "import random\n",
    "list11 = [1,2,3,4,5,6,7,8,9,10]\n",
    "# use shuffle method to suffle it \n",
    "random.shuffle(list11)\n",
    "# print value \n",
    "print(list11)"
   ]
  },
  {
   "cell_type": "code",
   "execution_count": 1,
   "id": "51a6b2ad-be14-49c7-8be7-638fd54ebc86",
   "metadata": {},
   "outputs": [
    {
     "name": "stdout",
     "output_type": "stream",
     "text": [
      "Factorial Numbers: [1, 1, 2, 6, 24, 120, 720, 5040, 40320, 362880]\n"
     ]
    }
   ],
   "source": [
    "# 39. Create a list of the first 10 factorial numbers.\n",
    "# Function to calculate factorial\n",
    "def factorial(n):\n",
    "    if n == 0 or n == 1:\n",
    "        return 1\n",
    "    else:\n",
    "        return n * factorial(n - 1)\n",
    "\n",
    "# Generate a list of the first 10 factorial numbers\n",
    "factorial_numbers = [factorial(i) for i in range(10)]\n",
    "\n",
    "# Print the list of factorial numbers\n",
    "print(\"Factorial Numbers:\", factorial_numbers)\n"
   ]
  },
  {
   "cell_type": "code",
   "execution_count": 3,
   "id": "2281a01e-d2bf-4c78-868b-9e9dfd754480",
   "metadata": {},
   "outputs": [
    {
     "name": "stdout",
     "output_type": "stream",
     "text": [
      "[1, 1, 2, 6, 24, 120, 720, 5040, 40320, 362880]\n"
     ]
    }
   ],
   "source": [
    "# 39. Create a list of the first 10 factorial numbers.\n",
    "def factorial_num(n):\n",
    "    # run until n value is less than 1 or if it 0 then return 1 \n",
    "    if n==0 or n==1:\n",
    "        return 1\n",
    "    else:\n",
    "        # multiply each time and mines 1 \n",
    "        return n * factorial_num(n-1)\n",
    "# running the function with 10 factorial numbers\n",
    "factorial_num_is = [factorial_num(i) for i in range(10)]\n",
    "# print all factorial number\n",
    "print(factorial_num_is)"
   ]
  },
  {
   "cell_type": "code",
   "execution_count": 6,
   "id": "a64e0806-613d-4fa4-9c8c-c56aa75ff149",
   "metadata": {},
   "outputs": [
    {
     "name": "stdout",
     "output_type": "stream",
     "text": [
      "in '[1, 2, 4, 5, 6, 7, 8]' and '[9, 2]' matching at least one element\n"
     ]
    }
   ],
   "source": [
    "# 40. Check if two lists have at least one element in common.\n",
    "def chk_common_el(listA, listB):\n",
    "    for temp_list in listA:\n",
    "        if temp_list in listB:\n",
    "            return True\n",
    "    return False\n",
    "# making lists and run function\n",
    "listA = [1,2,4,5,6,7,8]\n",
    "listB = [9,2]\n",
    "# check result true or false\n",
    "if chk_common_el(listA, listB):\n",
    "    print(f\"in '{listA}' and '{listB}' matching at least one element\")\n",
    "else:\n",
    "    print(f\"in '{listA}' and '{listB}' not matching at least one element\")"
   ]
  },
  {
   "cell_type": "code",
   "execution_count": 8,
   "id": "4a0d1c32-ea30-44f9-be76-cf19c5d67e6c",
   "metadata": {},
   "outputs": [
    {
     "name": "stdout",
     "output_type": "stream",
     "text": [
      "[]\n"
     ]
    }
   ],
   "source": [
    "# 41. Remove all elements from a list.\n",
    "list12 = [0,1,2,3,4,5,5]\n",
    "# remove list using clear method\n",
    "list12.clear()\n",
    "# print the result\n",
    "print(list12)"
   ]
  },
  {
   "cell_type": "code",
   "execution_count": 11,
   "id": "922b5763-b18a-4a1e-81d3-5acd721f1206",
   "metadata": {},
   "outputs": [
    {
     "name": "stdout",
     "output_type": "stream",
     "text": [
      "After Value:  [11, 23, 0, 0, 33, 5, 0, 1]\n"
     ]
    }
   ],
   "source": [
    "# 42. Replace negative numbers in a list with 0.\n",
    "list13 = [11,23,-44,-55,33,5,-4,1]\n",
    "# iterate through list13 if found < 0 then store 0\n",
    "for i in range(len(list13)):\n",
    "    if list13[i] < 0:\n",
    "        list13[i] = 0\n",
    "# print result now\n",
    "print(\"After Value: \",list13)"
   ]
  },
  {
   "cell_type": "code",
   "execution_count": 12,
   "id": "d8f61b07-50ae-42c6-bd26-136453c307df",
   "metadata": {},
   "outputs": [
    {
     "name": "stdout",
     "output_type": "stream",
     "text": [
      "['Hello,', 'How', 'Are', 'You?']\n"
     ]
    }
   ],
   "source": [
    "# 43. Convert a string into a list of words.\n",
    "list13 = \"Hello, How Are You?\"\n",
    "# using split method to return list\n",
    "split_list13 = list13.split()\n",
    "# print the result\n",
    "print(split_list13)"
   ]
  },
  {
   "cell_type": "code",
   "execution_count": 14,
   "id": "8725830b-6ec5-4b63-ae0b-49c1d1ed59db",
   "metadata": {},
   "outputs": [
    {
     "name": "stdout",
     "output_type": "stream",
     "text": [
      "How are you?\n"
     ]
    }
   ],
   "source": [
    "# 44. Convert a list of words into a string.\n",
    "list14 = [\"How\",\"are\", \"you?\"]\n",
    "# using join method to convert it to string\n",
    "jn_list14 = ' '.join(list14)\n",
    "# print the result\n",
    "print(jn_list14)"
   ]
  },
  {
   "cell_type": "code",
   "execution_count": 18,
   "id": "72109d9c-f96a-4ce5-90bc-d22db8b8496c",
   "metadata": {},
   "outputs": [
    {
     "name": "stdout",
     "output_type": "stream",
     "text": [
      "List of the first 5 powers of 2: [1, 2, 4, 8, 16]\n"
     ]
    }
   ],
   "source": [
    "# 45. Create a list of the first `n` powers of 2.\n",
    "n = 5\n",
    "# create first n of power\n",
    "power_n = [2 ** i for i in range(n)]\n",
    "# print the result\n",
    "print(\"List of the first\", n, \"powers of 2:\", power_n)"
   ]
  },
  {
   "cell_type": "code",
   "execution_count": 22,
   "id": "6cc6619e-d01a-4d8b-a996-d6261d6249af",
   "metadata": {},
   "outputs": [
    {
     "name": "stdout",
     "output_type": "stream",
     "text": [
      "in ['Python', 'Java', 'PHP', 'Javascript', 'Ruby'] longest string is: Javascript\n"
     ]
    }
   ],
   "source": [
    "# 46. Find the longest string in a list of strings.\n",
    "string_list = [\"Python\", \"Java\", \"PHP\", \"Javascript\", \"Ruby\"]\n",
    "# assign blank longest_word\n",
    "longest_word = \"\"\n",
    "# check through loop\n",
    "for l in string_list:\n",
    "    if len(l) > len(longest_word):\n",
    "        # store lon word if len is greater than l\n",
    "        longest_word = l\n",
    "# print the result\n",
    "print(\"in\",string_list, \"longest string is:\",longest_word)"
   ]
  },
  {
   "cell_type": "code",
   "execution_count": 24,
   "id": "6998091b-eff5-420b-8dd5-7345ff8647a3",
   "metadata": {},
   "outputs": [
    {
     "name": "stdout",
     "output_type": "stream",
     "text": [
      "in ['Python', 'Java', 'PHP', 'Javascript', 'Ruby'] short string is: PHP\n"
     ]
    }
   ],
   "source": [
    "# 47. Find the shortest string in a list of strings.\n",
    "string_list_short = [\"Python\", \"Java\", \"PHP\", \"Javascript\", \"Ruby\"]\n",
    "# assing blank short string\n",
    "short_string = string_list_short[0]\n",
    "# iterate through short_list_short\n",
    "for s in string_list_short:\n",
    "    if len(s) < len(short_string):\n",
    "        # storing shortest string\n",
    "        short_string = s\n",
    "# print result\n",
    "print(\"in\",string_list_short, \"short string is:\",short_string)"
   ]
  },
  {
   "cell_type": "code",
   "execution_count": 2,
   "id": "b817985a-3cd2-424c-ac16-067f1a70c806",
   "metadata": {},
   "outputs": [
    {
     "name": "stdout",
     "output_type": "stream",
     "text": [
      "First 10 triangular numbers:  [1, 3, 6, 10, 15, 21, 28, 36, 45, 55]\n"
     ]
    }
   ],
   "source": [
    "# 48. Create a list of the first `n` triangular numbers.\n",
    "# formula function to find triangular number\n",
    "def triangular_fun(n):\n",
    "    return n * (n+1) // 2\n",
    "# creating first triangular up to n\n",
    "def gen_n(n):\n",
    "    return [triangular_fun(i) for i in range(1, n+1)]\n",
    "# ASSIGN n value\n",
    "n = 10\n",
    "# run the function\n",
    "got_triangular_num = gen_n(n)\n",
    "# print result\n",
    "print(\"First\",n, \"triangular numbers: \", got_triangular_num)"
   ]
  },
  {
   "cell_type": "code",
   "execution_count": 11,
   "id": "e4b8c641-88a7-4b9f-86b7-8c1ec15dc7f2",
   "metadata": {},
   "outputs": [
    {
     "name": "stdout",
     "output_type": "stream",
     "text": [
      "list_one contains the list_two.\n"
     ]
    }
   ],
   "source": [
    "# 49. Check if a list contains another list as a list_two.\n",
    "def subsec_find(list_two, list_one):\n",
    "    # Index for the list_two elements\n",
    "    subseq_index = 0\n",
    "    # iterate through list_one\n",
    "    for element in list_one:\n",
    "        if element == list_two[subseq_index]:\n",
    "            subseq_index += 1\n",
    "            if subseq_index == len(list_two):\n",
    "                return True\n",
    "    return False\n",
    "\n",
    "# Example main list and list_two\n",
    "list_one = [1, 2, 3, 4, 5, 6, 7, 8]\n",
    "list_two = [2, 3, 8]\n",
    "\n",
    "# Check if the main list contains the list_two\n",
    "if subsec_find(list_two, list_one):\n",
    "    print(\"list_one contains the list_two.\")\n",
    "else:\n",
    "    print(\"list_one does not contain the list_two.\")"
   ]
  },
  {
   "cell_type": "code",
   "execution_count": 12,
   "id": "f6445b12-3f14-409a-aafd-5691b2686bb8",
   "metadata": {},
   "outputs": [
    {
     "name": "stdout",
     "output_type": "stream",
     "text": [
      "Swapped Result: [1, 4, 3, 2, 5]\n"
     ]
    }
   ],
   "source": [
    "# 50. Swap two elements in a list by their indices.\n",
    "list_element = [1,2,3,4,5]\n",
    "# indexes\n",
    "index_one = 1\n",
    "index_three = 3\n",
    "# swapping \n",
    "new_temp = list_element[index_one]\n",
    "list_element[index_one] = list_element[index_three]\n",
    "list_element[index_three] = new_temp\n",
    "# print result\n",
    "print(\"Swapped Result:\", list_element)"
   ]
  },
  {
   "cell_type": "code",
   "execution_count": 13,
   "id": "68db8244-5235-48be-8d67-78b082f65db1",
   "metadata": {},
   "outputs": [],
   "source": [
    "# Tuple Based Practice Problem :"
   ]
  },
  {
   "cell_type": "code",
   "execution_count": 1,
   "id": "cac0dfc7-667c-4318-9d51-2c4677e3e470",
   "metadata": {},
   "outputs": [
    {
     "name": "stdout",
     "output_type": "stream",
     "text": [
      "(1, 2, 3, 4, 5)\n"
     ]
    }
   ],
   "source": [
    "# 1. Create a tuple with integers from 1 to 5.\n",
    "tuple1 = tuple(range(1,6))\n",
    "# print the result\n",
    "print(tuple1)"
   ]
  },
  {
   "cell_type": "code",
   "execution_count": 4,
   "id": "737e9d48-96b1-4762-b98a-c7c912173cbb",
   "metadata": {},
   "outputs": [
    {
     "name": "stdout",
     "output_type": "stream",
     "text": [
      "3\n"
     ]
    }
   ],
   "source": [
    "# 2. Access the third element of a tuple.\n",
    "tuple2 = (1,2,3,4,5,6,7,8)\n",
    "# Access third element\n",
    "third_element = tuple2[2]\n",
    "# print result\n",
    "print(third_element)"
   ]
  },
  {
   "cell_type": "code",
   "execution_count": 5,
   "id": "7e61a76b-f941-4bd4-9858-0e03408b2cff",
   "metadata": {},
   "outputs": [
    {
     "name": "stdout",
     "output_type": "stream",
     "text": [
      "Total Length in (1, 2, 4, 5, 6) is: 5\n"
     ]
    }
   ],
   "source": [
    "# 3. Find the length of a tuple without using the `len()` function.\n",
    "tuple3 = (1,2,4,5,6)\n",
    "# assing count zero\n",
    "t_count = 0\n",
    "# iterate through tuple3\n",
    "for x in tuple3:\n",
    "    t_count +=1\n",
    "# print the result\n",
    "print(\"Total Length in\",tuple3, \"is:\",t_count)"
   ]
  },
  {
   "cell_type": "code",
   "execution_count": 6,
   "id": "98d28f77-f906-4ab8-a7d4-c395afc71a41",
   "metadata": {},
   "outputs": [
    {
     "name": "stdout",
     "output_type": "stream",
     "text": [
      "Total Occurences in (10, 20, 30, 40, 50, 10, 10, 2, 20) has 3\n"
     ]
    }
   ],
   "source": [
    "# 4. Count the occurrences of an element in a tuple.\n",
    "tuple4 = (10,20,30,40,50,10,10,2,20)\n",
    "# assing initial value 0\n",
    "t_count = 0\n",
    "# occurence is\n",
    "occu = 10\n",
    "# iterate through tuple4\n",
    "for y in tuple4:\n",
    "    # if found occurence then increament\n",
    "    if y == occu:\n",
    "        t_count +=1\n",
    "# print the result\n",
    "print(\"Total Occurences in\", tuple4, \"has\", t_count)"
   ]
  },
  {
   "cell_type": "code",
   "execution_count": 7,
   "id": "df6ab9d1-9018-45bc-911c-6e2e59199f96",
   "metadata": {},
   "outputs": [
    {
     "name": "stdout",
     "output_type": "stream",
     "text": [
      "First Occurnece in '(10, 20, 20, 30, 50, 60)' at '1' position\n"
     ]
    }
   ],
   "source": [
    "# 5. Find the index of the first occurrence of an element in a tuple.\n",
    "tuple5 = (10,20,20,30,50,60)\n",
    "# find to index\n",
    "find_first_occu = 20\n",
    "# find first occurnece in tuple5\n",
    "index_of_first_occu = tuple5.index(find_first_occu)\n",
    "# print the result\n",
    "print(f\"First Occurnece in '{tuple5}' at '{index_of_first_occu}' position\")"
   ]
  },
  {
   "cell_type": "code",
   "execution_count": 10,
   "id": "e462367d-d6f4-4d20-aae9-e0ba289b64c2",
   "metadata": {},
   "outputs": [
    {
     "name": "stdout",
     "output_type": "stream",
     "text": [
      "Yes, '7' exisit in '(1, 2, 3, 4, 5, 7, 7, 7, 8)'\n"
     ]
    }
   ],
   "source": [
    "# 6. Check if an element exists in a tuple.\n",
    "tuple6 = (1,2,3,4,5,7,7,7,8)\n",
    "# find element \n",
    "element_to_find = 7\n",
    "# check using if condintion\n",
    "if element_to_find in tuple6:\n",
    "    print(f\"Yes, '{element_to_find}' exisit in '{tuple6}'\")\n",
    "else:\n",
    "    print(f\"No, '{element_to_find}' doesn't exisit in '{tuple6}'\")"
   ]
  },
  {
   "cell_type": "code",
   "execution_count": 12,
   "id": "af1a342e-e870-4e44-90f6-37054e30e260",
   "metadata": {},
   "outputs": [
    {
     "name": "stdout",
     "output_type": "stream",
     "text": [
      "tuple8 is '<class 'tuple'>' and list_tuple is '<class 'list'>'\n"
     ]
    }
   ],
   "source": [
    "# 7. Convert a tuple to a list.\n",
    "tuple7 = (1,2,3,4,5)\n",
    "# check data type\n",
    "list_tuple = list(tuple7)\n",
    "# now check print\n",
    "print(f\"tuple8 is '{type(tuple7)}' and list_tuple is '{type(list_tuple)}'\")"
   ]
  },
  {
   "cell_type": "code",
   "execution_count": 15,
   "id": "defab36b-305c-44ff-b168-92bddecd74a3",
   "metadata": {},
   "outputs": [
    {
     "name": "stdout",
     "output_type": "stream",
     "text": [
      "(1, 2, 3, 3, 4, 4) Type is:  <class 'tuple'>\n"
     ]
    }
   ],
   "source": [
    "# 8. Convert a list to a tuple.\n",
    "list99 = [1,2,3,3,4,4]\n",
    "# convert to tuple\n",
    "con_tuple = tuple(list99)\n",
    "# print tuple\n",
    "print(con_tuple, \"Type is: \",type(con_tuple))"
   ]
  },
  {
   "cell_type": "code",
   "execution_count": 18,
   "id": "85032455-4b7b-4ed7-a8c8-fd7da1f18c7b",
   "metadata": {},
   "outputs": [
    {
     "name": "stdout",
     "output_type": "stream",
     "text": [
      "First Variable:  1\n",
      "First Variable:  2\n",
      "First Variable:  3\n"
     ]
    }
   ],
   "source": [
    "# 9. Unpack the elements of a tuple into variables.\n",
    "tuple_list_val = (1,2,3)\n",
    "# unpack into variable \n",
    "var_one, var_two, var_three = tuple_list_val\n",
    "# print value\n",
    "print(\"First Variable: \",var_one)\n",
    "print(\"First Variable: \",var_two)\n",
    "print(\"First Variable: \",var_three)"
   ]
  },
  {
   "cell_type": "code",
   "execution_count": 21,
   "id": "c06ca8a6-9cf7-4d08-9dea-3792d2ee5c83",
   "metadata": {},
   "outputs": [
    {
     "name": "stdout",
     "output_type": "stream",
     "text": [
      "(2, 4, 6, 8, 10)\n"
     ]
    }
   ],
   "source": [
    "# 10. Create a tuple of even numbers from 1 to 10.\n",
    "# start with 2 stop 11 and step 2\n",
    "even_list = [num for num in range(2,11,2)]\n",
    "# now convert it to tuple\n",
    "even_tuple = tuple(even_list)\n",
    "# print now\n",
    "print(even_tuple)"
   ]
  },
  {
   "cell_type": "code",
   "execution_count": 22,
   "id": "92c14a39-98ec-4fc5-b6e9-548b46a21690",
   "metadata": {},
   "outputs": [
    {
     "name": "stdout",
     "output_type": "stream",
     "text": [
      "(1, 3, 5, 7, 9)\n"
     ]
    }
   ],
   "source": [
    "# 11. Create a tuple of odd numbers from 1 to 10.\n",
    "odd_list = [num for num in range(1,11,2)]\n",
    "# convert it into tuple\n",
    "odd_tuple = tuple(odd_list)\n",
    "# print value \n",
    "print(odd_tuple)"
   ]
  },
  {
   "cell_type": "code",
   "execution_count": 24,
   "id": "c214721f-8599-46c2-b7ee-ba8263921ed0",
   "metadata": {},
   "outputs": [
    {
     "name": "stdout",
     "output_type": "stream",
     "text": [
      "(3, 34, 4, 5, 6, 1, 2, 3, 4, 54)\n"
     ]
    }
   ],
   "source": [
    "# 12. Concatenate two tuples.\n",
    "tuple_one = (1,2,3,4,54)\n",
    "tuple_two = (3,34,4,5,6)\n",
    "# concatenate using +\n",
    "con_tuplle = tuple_two + tuple_one\n",
    "# print value \n",
    "print(con_tuplle)"
   ]
  },
  {
   "cell_type": "code",
   "execution_count": 25,
   "id": "e070e26b-98b5-4861-b393-ddc96c4d9d73",
   "metadata": {},
   "outputs": [
    {
     "name": "stdout",
     "output_type": "stream",
     "text": [
      "(11, 12, 13, 11, 12, 13, 11, 12, 13)\n"
     ]
    }
   ],
   "source": [
    "# 13. Repeat a tuple three times.\n",
    "tuple_org = (11,12,13)\n",
    "# repeating using * \n",
    "rep_tuple = tuple_org * 3\n",
    "# now print\n",
    "print(rep_tuple)"
   ]
  },
  {
   "cell_type": "code",
   "execution_count": 28,
   "id": "6c374e9a-99a7-480b-a2bc-1dccd20412b8",
   "metadata": {},
   "outputs": [
    {
     "name": "stdout",
     "output_type": "stream",
     "text": [
      "blank_tuple is empty\n"
     ]
    }
   ],
   "source": [
    "# 14. Check if a tuple is empty.\n",
    "blank_tuple = ()\n",
    "# check empty tuple using if condintion\n",
    "if not blank_tuple:\n",
    "    print(\"blank_tuple is empty\")\n",
    "else:\n",
    "    print(\"blank_tuple is not empty\")"
   ]
  },
  {
   "cell_type": "code",
   "execution_count": 29,
   "id": "83967891-1790-44b7-afec-e0076be5e486",
   "metadata": {},
   "outputs": [
    {
     "name": "stdout",
     "output_type": "stream",
     "text": [
      "('How', 'are', 'you?')\n"
     ]
    }
   ],
   "source": [
    "# 15. Create a nested tuple.\n",
    "tuple_nest = (\"How\",(\"are\"),\"you?\")\n",
    "# printing the result\n",
    "print(tuple_nest)"
   ]
  },
  {
   "cell_type": "code",
   "execution_count": 30,
   "id": "0cba62eb-6509-4219-a25e-81e11e2879b4",
   "metadata": {},
   "outputs": [
    {
     "name": "stdout",
     "output_type": "stream",
     "text": [
      "'(1, 2)' is first element in nested '((1, 2), 12, 13, 'True')'\n"
     ]
    }
   ],
   "source": [
    "# 16. Access the first element of a nested tuple.\n",
    "tuple_nest_two = ((1,2), 12,13,(\"True\"))\n",
    "# accessing first element\n",
    "tuplenest_first_ele = tuple_nest_two[0]\n",
    "# result\n",
    "print(f\"'{tuplenest_first_ele}' is first element in nested '{tuple_nest_two}'\")"
   ]
  },
  {
   "cell_type": "code",
   "execution_count": 31,
   "id": "38df87c2-2f0f-49bd-8e37-b38c471191ba",
   "metadata": {},
   "outputs": [
    {
     "name": "stdout",
     "output_type": "stream",
     "text": [
      "(10,)\n"
     ]
    }
   ],
   "source": [
    "# 17. Create a tuple with a single element.\n",
    "tuple_sing = (10,) #, comma must have in tupple\n",
    "# print\n",
    "print(tuple_sing)"
   ]
  },
  {
   "cell_type": "code",
   "execution_count": 32,
   "id": "b2d5796e-a5fe-4c6a-b8e5-161fe5b2b13f",
   "metadata": {},
   "outputs": [
    {
     "name": "stdout",
     "output_type": "stream",
     "text": [
      "tuple_first == tuple_sec:  True\n",
      "tuple_first != tuple_sec:  False\n",
      "tuple_first < tuple_sec:  False\n",
      "tuple_first > tuple_sec:  False\n",
      "tuple_first <= tuple_sec:  True\n",
      "tuple_first >= tuple_sec:  True\n"
     ]
    }
   ],
   "source": [
    "# 18. Compare two tuples.\n",
    "tuple_first = (10,20,30)\n",
    "tuple_sec = (40,50,60)\n",
    "# comparison with tuple_first and tuple_sec\n",
    "print(\"tuple_first == tuple_sec: \",tuple_first == tuple_first) # == for checking equality\n",
    "print(\"tuple_first != tuple_sec: \",tuple_first != tuple_first) # != if not equal\n",
    "print(\"tuple_first < tuple_sec: \",tuple_first < tuple_first) # < if first less than second one\n",
    "print(\"tuple_first > tuple_sec: \",tuple_first > tuple_first) # > if first greater than second one\n",
    "print(\"tuple_first <= tuple_sec: \",tuple_first <= tuple_first) # <= if less than or equal\n",
    "print(\"tuple_first >= tuple_sec: \",tuple_first >= tuple_first) # >= if greater than or equal"
   ]
  },
  {
   "cell_type": "code",
   "execution_count": 35,
   "id": "bc604690-d5fb-4daf-96ab-6652fa940a52",
   "metadata": {},
   "outputs": [
    {
     "ename": "NameError",
     "evalue": "name 'storage_tuple' is not defined",
     "output_type": "error",
     "traceback": [
      "\u001b[1;31m---------------------------------------------------------------------------\u001b[0m",
      "\u001b[1;31mNameError\u001b[0m                                 Traceback (most recent call last)",
      "Cell \u001b[1;32mIn[35], line 6\u001b[0m\n\u001b[0;32m      4\u001b[0m \u001b[38;5;28;01mdel\u001b[39;00m storage_tuple\n\u001b[0;32m      5\u001b[0m \u001b[38;5;66;03m# now try to access\u001b[39;00m\n\u001b[1;32m----> 6\u001b[0m \u001b[38;5;28mprint\u001b[39m(\u001b[43mstorage_tuple\u001b[49m)\n",
      "\u001b[1;31mNameError\u001b[0m: name 'storage_tuple' is not defined"
     ]
    }
   ],
   "source": [
    "# 19. Delete a tuple.\n",
    "storage_tuple = (1,23,3,4)\n",
    "# deleting tuple using del\n",
    "del storage_tuple\n",
    "# now try to access\n",
    "print(storage_tuple)"
   ]
  },
  {
   "cell_type": "code",
   "execution_count": 37,
   "id": "92674e67-d131-42ee-a2c6-00338240d3b6",
   "metadata": {},
   "outputs": [
    {
     "name": "stdout",
     "output_type": "stream",
     "text": [
      "(2, 3, 4, 5)\n"
     ]
    }
   ],
   "source": [
    "# 20. Slice a tuple.\n",
    "raw_tuple = (1,2,3,4,5,6,7,8)\n",
    "# slice tuple from 1 index to 5\n",
    "slice_tuple = raw_tuple[1:5]\n",
    "# print\n",
    "print(slice_tuple)"
   ]
  },
  {
   "cell_type": "code",
   "execution_count": 42,
   "id": "fe0ad53e-3c06-45f5-acd1-5e370f3fa05a",
   "metadata": {},
   "outputs": [
    {
     "name": "stdout",
     "output_type": "stream",
     "text": [
      "Max Element in '(123, 3, 54, 5, 6, 6, 7, 43545, 46546)' is: '46546\n"
     ]
    }
   ],
   "source": [
    "# 21. Find the maximum value in a tuple.\n",
    "random_tuple = (123,3,54,5,6,6,7,43545,46546)\n",
    "# access maximum tuple element using max method\n",
    "max_ele_tup = max(random_tuple)\n",
    "# print\n",
    "print(f\"Max Element in '{random_tuple}' is: '{max_ele_tup}\")"
   ]
  },
  {
   "cell_type": "code",
   "execution_count": 44,
   "id": "2b23ca4a-0b33-449e-95df-e8d00474b4ea",
   "metadata": {},
   "outputs": [
    {
     "name": "stdout",
     "output_type": "stream",
     "text": [
      "min element is: '5' in '(242, 234, 34, 5, 6, 67, 5)'\n"
     ]
    }
   ],
   "source": [
    "# 22. Find the minimum value in a tuple.\n",
    "tuple_12 = (242,234,34,5,6,67,5)\n",
    "# access minimum tuple element using min method\n",
    "min_ele_tup = min(tuple_12)\n",
    "# print\n",
    "print(f\"min element is: '{min_ele_tup}' in '{tuple_12}'\")"
   ]
  },
  {
   "cell_type": "code",
   "execution_count": 47,
   "id": "f67ec4c2-d1fe-40d7-b26a-69d64ff72c6a",
   "metadata": {},
   "outputs": [
    {
     "name": "stdout",
     "output_type": "stream",
     "text": [
      "('H', 'e', 'l', 'l', 'o', ' ', 'H', 'o', 'w', ' ', 'A', 'r', 'e', ' ', 'Y', 'o', 'u', '?')\n"
     ]
    }
   ],
   "source": [
    "# 23. Convert a string to a tuple of characters.\n",
    "string_val = \"Hello How Are You?\"\n",
    "# convert into tuple\n",
    "con_tup = tuple(string_val)\n",
    "# print value\n",
    "print(con_tup)"
   ]
  },
  {
   "cell_type": "code",
   "execution_count": 48,
   "id": "3575c424-f63b-4909-a3ef-1ab7d59fec7e",
   "metadata": {},
   "outputs": [
    {
     "name": "stdout",
     "output_type": "stream",
     "text": [
      "Hello How Are You?\n"
     ]
    }
   ],
   "source": [
    "# 24. Convert a tuple of characters to a string.\n",
    "tup_char = ('H', 'e', 'l', 'l', 'o', ' ', 'H', 'o', 'w', ' ', 'A', 'r', 'e', ' ', 'Y', 'o', 'u', '?')\n",
    "# convert into string using join method\n",
    "tup_str = ''.join(tup_char)\n",
    "# print\n",
    "print(tup_str)"
   ]
  },
  {
   "cell_type": "code",
   "execution_count": 49,
   "id": "aac2ff1b-281f-4cb4-8965-7ff73627abfa",
   "metadata": {},
   "outputs": [
    {
     "name": "stdout",
     "output_type": "stream",
     "text": [
      "With Multple Data Type Tuple:  (10, 'Hello', True, 3.21)\n"
     ]
    }
   ],
   "source": [
    "# 25. Create a tuple from multiple data types.\n",
    "mix_dt_t = (10,\"Hello\",True,3.21)\n",
    "# print\n",
    "print(\"With Multple Data Type Tuple: \", mix_dt_t)"
   ]
  },
  {
   "cell_type": "code",
   "execution_count": 51,
   "id": "12c5645a-71c1-4a09-9110-8a2eaa71172c",
   "metadata": {},
   "outputs": [
    {
     "name": "stdout",
     "output_type": "stream",
     "text": [
      "tuple_1 and tuple_2 are not identical\n",
      "tuple_1 and tuple_3 are identical\n"
     ]
    }
   ],
   "source": [
    "# 26. Check if two tuples are identical.\n",
    "tuple_1 = (1,23,3,34)\n",
    "tuple_2 = (3,4,5,5,5)\n",
    "tuple_3 = (1,23,3,34)\n",
    "\n",
    "# comparison tuple_1 and tuple_2\n",
    "if tuple_1 == tuple_2:\n",
    "    print(\"tuple_1 and tuple_2 are identical\")\n",
    "else:\n",
    "    print(\"tuple_1 and tuple_2 are not identical\")\n",
    "# comparison tuple_1 with tuple_3\n",
    "if tuple_1 == tuple_3:\n",
    "    print(\"tuple_1 and tuple_3 are identical\")\n",
    "\n",
    "else:\n",
    "    print(\"tuple_1 and tuple_3 are not identical\")"
   ]
  },
  {
   "cell_type": "code",
   "execution_count": 53,
   "id": "0aefb8cf-2a8e-4d64-9f13-c633c7d123dc",
   "metadata": {},
   "outputs": [
    {
     "name": "stdout",
     "output_type": "stream",
     "text": [
      "(1, 5, 23, 34, 54)\n"
     ]
    }
   ],
   "source": [
    "# 27. Sort the elements of a tuple.\n",
    "tuple_11 = (1,23,34,54,5)\n",
    "# sort it using sorted function\n",
    "tuple_sort = tuple(sorted(tuple_11))\n",
    "# print result\n",
    "print(tuple_sort)"
   ]
  },
  {
   "cell_type": "code",
   "execution_count": 56,
   "id": "dfe57d05-783c-44f9-85d0-f0c276729cad",
   "metadata": {},
   "outputs": [
    {
     "name": "stdout",
     "output_type": "stream",
     "text": [
      "('12', '3', '4', '5')\n"
     ]
    }
   ],
   "source": [
    "# 28. Convert a tuple of integers to a tuple of strings.\n",
    "tuple_int = (12,3,4,5)\n",
    "# convert each to string\n",
    "string_int_tup = tuple(str(x) for x in tuple_int)\n",
    "# print result\n",
    "print(string_int_tup)"
   ]
  },
  {
   "cell_type": "code",
   "execution_count": 57,
   "id": "1c9d10c7-1f08-409f-b655-78ca65e01956",
   "metadata": {},
   "outputs": [
    {
     "name": "stdout",
     "output_type": "stream",
     "text": [
      "(1, 23, 34, 10)\n"
     ]
    }
   ],
   "source": [
    "# 29. Convert a tuple of strings to a tuple of integers.\n",
    "str_int_tup = (\"1\",\"23\",\"34\",\"10\")\n",
    "# convert each to integer\n",
    "int_tup = tuple(int(y) for y in str_int_tup)\n",
    "# print result\n",
    "print(int_tup)"
   ]
  },
  {
   "cell_type": "code",
   "execution_count": 62,
   "id": "76322b7f-6a41-484b-adce-af85bbf2d50a",
   "metadata": {},
   "outputs": [
    {
     "name": "stdout",
     "output_type": "stream",
     "text": [
      "(1, 3, 34, 54, 23, 344, 5)\n"
     ]
    }
   ],
   "source": [
    "# 30. Merge two tuples.\n",
    "tuple_one = (1,3,34,54)\n",
    "tuple_two = (23,344,5)\n",
    "# merge using +\n",
    "merged_tup = tuple_one + tuple_two\n",
    "# print result\n",
    "print(merged_tup)"
   ]
  },
  {
   "cell_type": "code",
   "execution_count": 1,
   "id": "e8dc8adb-4197-42b4-9774-a1d11c96e449",
   "metadata": {},
   "outputs": [
    {
     "name": "stdout",
     "output_type": "stream",
     "text": [
      "Flatten From  {(1, 23, 3, ('hello', 'world'), (10, 10))} and result:  [1, 23, 3, 'hello', 'world', 10, 10]\n"
     ]
    }
   ],
   "source": [
    "# 31. Flatten a nested tuple.\n",
    "nested_tuple = (1,23,3,(\"hello\", \"world\"), (10,10))\n",
    "# assign blank tuple \n",
    "flatten = []\n",
    "# check if exist nested then extend else append \n",
    "for nest_item in nested_tuple:\n",
    "    if type(nest_item) == tuple:\n",
    "        flatten.extend(nest_item)\n",
    "    else:\n",
    "        flatten.append(nest_item)\n",
    "# print the result\n",
    "print(\"Flatten From \",{nested_tuple}, \"and result: \",flatten)"
   ]
  },
  {
   "cell_type": "code",
   "execution_count": 20,
   "id": "3727a7b9-4823-4e9b-9fcf-2f82de5b0298",
   "metadata": {},
   "outputs": [
    {
     "name": "stdout",
     "output_type": "stream",
     "text": [
      "Prime Number:  [2, 3, 5, 7, 11]\n"
     ]
    }
   ],
   "source": [
    "# 32. Create a tuple of the first 5 prime numbers.\n",
    "num = 5\n",
    "count = 2\n",
    "primes = []\n",
    "\n",
    "# while until num is greater than 0\n",
    "while num > 0:\n",
    "    # set is_prime as true now\n",
    "    is_prime = True\n",
    "    # iterate through count \n",
    "    for i in range(2, count):\n",
    "        if count % i == 0:\n",
    "            # return false if % 0\n",
    "            is_prime = False\n",
    "            break\n",
    "    if is_prime:\n",
    "        primes.append(count)\n",
    "        num -= 1\n",
    "    count += 1\n",
    "# print result \n",
    "print(\"Prime Number: \",primes)"
   ]
  },
  {
   "cell_type": "code",
   "execution_count": 5,
   "id": "272073f4-c078-445a-a1dd-032a6516d50c",
   "metadata": {},
   "outputs": [
    {
     "name": "stdout",
     "output_type": "stream",
     "text": [
      "(1, 2, 1) is palindrom\n"
     ]
    }
   ],
   "source": [
    "# 33. Check if a tuple is a palindrome.\n",
    "tuple_1 = (1,2,1)\n",
    "# checking in reverse direction using slice method \n",
    "reverse_tup = tuple_1[::-1]\n",
    "# check if eqaul\n",
    "if reverse_tup == tuple_1:\n",
    "    print(tuple_1, \"is palindrom\")\n",
    "else:\n",
    "    print(tuple_1, \"is not palindrom\")"
   ]
  },
  {
   "cell_type": "code",
   "execution_count": 7,
   "id": "9c57a0f9-be88-4f8c-b0be-8833888ca8f6",
   "metadata": {},
   "outputs": [
    {
     "name": "stdout",
     "output_type": "stream",
     "text": [
      "(1, 4, 9, 16, 25)\n"
     ]
    }
   ],
   "source": [
    "# 34. Create a tuple of squares of numbers from 1 to 5.\n",
    "tup_sq = tuple(x**2 for x in range(1,6))\n",
    "# print result\n",
    "print(tup_sq)"
   ]
  },
  {
   "cell_type": "code",
   "execution_count": 9,
   "id": "2561aa3f-0377-46af-aeb4-b149d4f72cb9",
   "metadata": {},
   "outputs": [
    {
     "name": "stdout",
     "output_type": "stream",
     "text": [
      "(1, 3, 5, 7, 9)\n"
     ]
    }
   ],
   "source": [
    "# 35. Filter out all even numbers from a tuple.\n",
    "normal_tuple = (1,2,3,4,5,6,7,8,9,10)\n",
    "# filter out even number \n",
    "filter_tuple = tuple(num for num in normal_tuple if num % 2 != 0)\n",
    "# print the result \n",
    "print(filter_tuple)"
   ]
  },
  {
   "cell_type": "code",
   "execution_count": 12,
   "id": "4991ddac-fa39-4c78-bd53-e39a3576dc47",
   "metadata": {},
   "outputs": [
    {
     "name": "stdout",
     "output_type": "stream",
     "text": [
      "(6, 108, 10, 12, 156, 16, 178)\n"
     ]
    }
   ],
   "source": [
    "# 36. Multiply all elements in a tuple by 2.\n",
    "tuple_org = (3,54,5,6,78,8,89)\n",
    "# multple with 2 using loop\n",
    "mul_by_2_tup = tuple(x * 2 for x in tuple_org)\n",
    "# print result\n",
    "print(mul_by_2_tup)"
   ]
  },
  {
   "cell_type": "code",
   "execution_count": 15,
   "id": "5f2e9114-3535-478d-b8d6-3447eb63a2d4",
   "metadata": {},
   "outputs": [
    {
     "name": "stdout",
     "output_type": "stream",
     "text": [
      "Random Number:  (8, 56, 86, 8, 62, 34, 16, 24, 37, 15)\n"
     ]
    }
   ],
   "source": [
    "# 37. Create a tuple of random numbers.\n",
    "# import random for random number generator\n",
    "import random\n",
    "# generate and store in randmomn_num_tuple\n",
    "random_num_tuple = tuple(random.randint(1,100) for _ in range(10))\n",
    "# print the result\n",
    "print(\"Random Number: \",random_num_tuple)"
   ]
  },
  {
   "cell_type": "code",
   "execution_count": 35,
   "id": "9e63c0ed-e3d7-4800-a55a-d6d8d94efded",
   "metadata": {},
   "outputs": [
    {
     "name": "stdout",
     "output_type": "stream",
     "text": [
      "(1, 2, 32, 34) is sorted\n"
     ]
    }
   ],
   "source": [
    "# 38. Check if a tuple is sorted.\n",
    "def sort_tup_chk(tup):\n",
    "    for i in range(len(tup) - 1):\n",
    "        # if current is greater than next then return false otherwise True\n",
    "        if tup[i] > tup[i + 1]:\n",
    "            return False\n",
    "        else:\n",
    "            return True\n",
    "# assign tuple:\n",
    "tup = (1,2,32,34)\n",
    "# check function\n",
    "if sort_tup_chk(tup):\n",
    "    print(tup, \"is sorted\")\n",
    "else:\n",
    "    print(tup, \"is not sorted\")"
   ]
  },
  {
   "cell_type": "code",
   "execution_count": 56,
   "id": "01da8158-f256-4896-a735-3560773c4834",
   "metadata": {},
   "outputs": [
    {
     "name": "stdout",
     "output_type": "stream",
     "text": [
      "Rotated to left:  (300, 400, 500, 100, 200)\n"
     ]
    }
   ],
   "source": [
    "# 39. Rotate a tuple to the left by `n` positions.\n",
    "tuple_1 = (100,200,300,400,500)\n",
    "# n position \n",
    "n = 2\n",
    "# shifting to left using slice\n",
    "shift_left_tup_1 = tuple_1[n:] + tuple_1[:n]\n",
    "# print the result\n",
    "print(\"Rotated to left: \",shift_left_tup_1)"
   ]
  },
  {
   "cell_type": "code",
   "execution_count": 53,
   "id": "3be904cf-f309-47a9-be51-bed587903b81",
   "metadata": {},
   "outputs": [
    {
     "name": "stdout",
     "output_type": "stream",
     "text": [
      "Rotated to right:  (400, 500, 100, 200, 300)\n"
     ]
    }
   ],
   "source": [
    "# 40. Rotate a tuple to the right by `n` positions.\n",
    "tuple_2 = (100,200,300,400,500)\n",
    "# n position\n",
    "n = 2\n",
    "# shifting to right using slice\n",
    "shift_right_tup_2 = tuple_2[-n:] + tuple_2[:-n]\n",
    "# print result\n",
    "print(\"Rotated to right: \",shift_right_tup_2)"
   ]
  },
  {
   "cell_type": "code",
   "execution_count": 65,
   "id": "a1ebb123-37b9-426b-8d42-642d90a07a13",
   "metadata": {},
   "outputs": [
    {
     "name": "stdout",
     "output_type": "stream",
     "text": [
      "Fibonacci of first 5 Numbers: (0, 1, 1, 2, 3)\n"
     ]
    }
   ],
   "source": [
    "# 41. Create a tuple of the first 5 Fibonacci numbers.\n",
    "a, b = 0, 1\n",
    "fib_tuple = ()\n",
    "# iterate through range 5\n",
    "for _ in range(5):\n",
    "    fib_tuple += (a,)\n",
    "    a, b = b, a + b\n",
    "\n",
    "# Print the tuple\n",
    "print(\"Fibonacci of first 5 Numbers:\", fib_tuple)"
   ]
  },
  {
   "cell_type": "code",
   "execution_count": 73,
   "id": "591fbd4c-643e-4048-a9cd-d1b8a4fe7b63",
   "metadata": {},
   "outputs": [
    {
     "name": "stdin",
     "output_type": "stream",
     "text": [
      "Enter anything:  as,ed,tg,tg,ryh,\n"
     ]
    },
    {
     "name": "stdout",
     "output_type": "stream",
     "text": [
      "Tuple From User:  ('as', 'ed', 'tg', 'tg', 'ryh', '')\n"
     ]
    }
   ],
   "source": [
    "# 42. Create a tuple from user input.\n",
    "enter_anythong = input(\"Enter anything: \")\n",
    "# split each word to return list and again convert it into tuple\n",
    "split_input = tuple(enter_anythong.split(\",\"))\n",
    "# print result:\n",
    "print(\"Tuple From User: \", split_input)"
   ]
  },
  {
   "cell_type": "code",
   "execution_count": 74,
   "id": "c437e6ec-45d6-471b-9262-165ca9a97399",
   "metadata": {},
   "outputs": [
    {
     "name": "stdout",
     "output_type": "stream",
     "text": [
      "normal_tuple  (1, 2, 3, 4, 5) and result after swapped element (2, 1, 3, 4, 5)\n"
     ]
    }
   ],
   "source": [
    "# 43. Swap two elements in a tuple.\n",
    "normal_tuple = (1,2,3,4,5)\n",
    "# assing two indexes\n",
    "index_one = 0\n",
    "index_two = 1\n",
    "# now convert normal_tuple to list because tuple not allowed to modified\n",
    "list_tuple = list(normal_tuple)\n",
    "# now swap the element\n",
    "list_tuple[index_one], list_tuple[index_two] = list_tuple[index_two], list_tuple[index_one]\n",
    "# now convert into again tuple\n",
    "swapped_el_tup = tuple(list_tuple)\n",
    "# print the result\n",
    "print(\"normal_tuple \", normal_tuple, \"and result after swapped element\", swapped_el_tup)"
   ]
  },
  {
   "cell_type": "code",
   "execution_count": 76,
   "id": "0e437123-eee9-42b7-aee2-c9a71a362357",
   "metadata": {},
   "outputs": [
    {
     "name": "stdout",
     "output_type": "stream",
     "text": [
      "Reversed Tuple From (1, 2, 3, 4, 5) and result: (5, 4, 3, 2, 1)\n"
     ]
    }
   ],
   "source": [
    "# 44. Reverse the elements of a tuple.\n",
    "assign_tup = (1,2,3,4,5)\n",
    "# using slice to reverse \n",
    "rev_tup = assign_tup[::-1]\n",
    "# print the result\n",
    "print(\"Reversed Tuple From\",assign_tup, \"and result:\",rev_tup)"
   ]
  },
  {
   "cell_type": "code",
   "execution_count": 78,
   "id": "8aa6b052-9b6b-45ce-a815-a62556a1d4be",
   "metadata": {},
   "outputs": [
    {
     "name": "stdout",
     "output_type": "stream",
     "text": [
      "(1, 2, 4, 8, 16)\n"
     ]
    }
   ],
   "source": [
    "# 45. Create a tuple of the first `n` powers of 2.\n",
    "n = 5\n",
    "# power 2 each element through loop\n",
    "power_2_tup = tuple(2** x for x in range(n))\n",
    "# print result\n",
    "print(power_2_tup)"
   ]
  },
  {
   "cell_type": "code",
   "execution_count": 91,
   "id": "a0968ef4-b90c-4e2b-934f-3228e1d99677",
   "metadata": {},
   "outputs": [
    {
     "name": "stdout",
     "output_type": "stream",
     "text": [
      "'Javascript' is longest word\n"
     ]
    }
   ],
   "source": [
    "# 46. Find the longest string in a tuple of strings.\n",
    "def long_str(string):\n",
    "    longest_string = \"\"\n",
    "    for x in string:\n",
    "        if len(x) > len(longest_string):\n",
    "            longest_string = x\n",
    "    return longest_string\n",
    "# print the result\n",
    "# assing result\n",
    "string = (\"PHP\", \"Python\", \"Javascript\", \"Ruby\")\n",
    "result = long_str(string)\n",
    "print(f\"'{result}' is longest word\")"
   ]
  },
  {
   "cell_type": "code",
   "execution_count": 94,
   "id": "40606adb-36ef-4b18-a608-8434f55c2cad",
   "metadata": {},
   "outputs": [
    {
     "name": "stdout",
     "output_type": "stream",
     "text": [
      "'PHP' is Shortest String in '('PHP', 'Python', 'Javascript', 'Ruby')'\n"
     ]
    }
   ],
   "source": [
    "# 47. Find the shortest string in a tuple of strings.\n",
    "def short_str(srt_str):\n",
    "    short_word = srt_str[0]\n",
    "    # iterate through srt_str\n",
    "    for s in srt_str:\n",
    "        if len(s) < len(short_word):\n",
    "            short_word = s\n",
    "    return short_word\n",
    "# assing srt_str\n",
    "srt_str = (\"PHP\", \"Python\", \"Javascript\", \"Ruby\")\n",
    "shor_res = short_str(srt_str)\n",
    "# print result\n",
    "print(f\"'{shor_res}' is Shortest String in '{srt_str}'\")"
   ]
  },
  {
   "cell_type": "code",
   "execution_count": 97,
   "id": "93a0b740-a059-4dba-b4a8-a02dd57d3d47",
   "metadata": {},
   "outputs": [
    {
     "name": "stdout",
     "output_type": "stream",
     "text": [
      "Tuple of first '10' Number:  (1, 3, 6, 10, 15, 21, 28, 36, 45, 55)\n"
     ]
    }
   ],
   "source": [
    "# 48. Create a tuple of the first `n` triangular numbers.\n",
    "def triangular_first_n(n):\n",
    "    return tuple(i * (i+1) // 2 for i in range(1, n + 1))\n",
    "# assign  \n",
    "n = 10\n",
    "result_triangular = triangular_first_n(n)\n",
    "# print result\n",
    "print(f\"Tuple of first '{n}' Number: \",result_triangular)"
   ]
  },
  {
   "cell_type": "code",
   "execution_count": 103,
   "id": "cfdced8f-a6a6-4922-b0f1-ca6e2d20bfe3",
   "metadata": {},
   "outputs": [
    {
     "name": "stdout",
     "output_type": "stream",
     "text": [
      "Yes '(1, 2, 3, 4, 5, 6, 7, 8, 9, 10)' is contain '(8, 9, 10)'\n"
     ]
    }
   ],
   "source": [
    "# 49. Check if a tuple contains another tuple as a subsequence.\n",
    "def sub_chk(tuple_one, tuple_two):\n",
    "    # assing index 0\n",
    "    index = 0\n",
    "    # iterate tuple_one\n",
    "    for i in tuple_one:\n",
    "        if i == tuple_two[index]:\n",
    "            index +=1\n",
    "            if index == len(tuple_two):\n",
    "                return True\n",
    "    return False\n",
    "# assing tuple_one and tuple_two value \n",
    "tuple_one = (1,2,3,4,5,6,7,8,9,10)\n",
    "tuple_two = (8,9,10)\n",
    "# print result\n",
    "if sub_chk(tuple_one, tuple_two):\n",
    "    print(f\"Yes '{tuple_one}' is contain '{tuple_two}'\")\n",
    "else:\n",
    "    print(f\"No '{tuple_one}' is not contain '{tuple_two}'\")"
   ]
  },
  {
   "cell_type": "code",
   "execution_count": 106,
   "id": "58a3fa71-8a49-4260-a3b0-7797247253bb",
   "metadata": {},
   "outputs": [
    {
     "name": "stdout",
     "output_type": "stream",
     "text": [
      "Tuple Of 1s and 0s: (0, 1, 0, 1, 0, 1, 0, 1, 0, 1)\n"
     ]
    }
   ],
   "source": [
    "# 50. Create a tuple of alternating 1s and 0s of length `n`.\n",
    "n = 10\n",
    "# iterate through n \n",
    "alt_tuple = tuple(i % 2 for i in range(n))\n",
    "# print the result\n",
    "print(\"Tuple Of 1s and 0s:\", alt_tuple)"
   ]
  },
  {
   "cell_type": "code",
   "execution_count": null,
   "id": "4d57ca1e-3ac9-4201-a373-50b83869e7d6",
   "metadata": {},
   "outputs": [],
   "source": [
    "# Set Based Practice Problem :"
   ]
  },
  {
   "cell_type": "code",
   "execution_count": 112,
   "id": "e09b0ac3-48cb-4918-9ac0-d359c358979e",
   "metadata": {},
   "outputs": [
    {
     "name": "stdout",
     "output_type": "stream",
     "text": [
      "Ingers From 1 to 5:  {1, 2, 3, 4, 5}\n"
     ]
    }
   ],
   "source": [
    "# 1. Create a set with integers from 1 to 5.\n",
    "set1 = set(i for i in range(1,6))\n",
    "# print set \n",
    "print(\"Ingers From 1 to 5: \",set1)"
   ]
  },
  {
   "cell_type": "code",
   "execution_count": 116,
   "id": "1b24619b-fa20-4ca2-8d91-9643eea52103",
   "metadata": {},
   "outputs": [
    {
     "name": "stdout",
     "output_type": "stream",
     "text": [
      "Result After Adding:  {1, 2, 3, 4, 5, 6}\n"
     ]
    }
   ],
   "source": [
    "# 2. Add an element to a set.\n",
    "set2 = {1,2,3,4,5}\n",
    "# add to element\n",
    "add_to_el = 6\n",
    "# adding element in set2 using add attribute\n",
    "set2.add(add_to_el)\n",
    "# print result\n",
    "print(\"Result After Adding: \", set2)"
   ]
  },
  {
   "cell_type": "code",
   "execution_count": 117,
   "id": "86100f66-b6d7-4d14-a5e6-a10a291a7563",
   "metadata": {},
   "outputs": [
    {
     "name": "stdout",
     "output_type": "stream",
     "text": [
      "Result After Remove The Element: {1, 2, 3, 4, 5}\n"
     ]
    }
   ],
   "source": [
    "# 3. Remove an element from a set.\n",
    "set3 = {0,1,2,3,4,5}\n",
    "# element to remove\n",
    "rem_el = 0\n",
    "# using remove method to remove this \n",
    "set3.remove(rem_el)\n",
    "# print the result\n",
    "print(\"Result After Remove The Element:\", set3)"
   ]
  },
  {
   "cell_type": "code",
   "execution_count": 120,
   "id": "7952ccd6-f11a-47b7-8a5e-84405762acd7",
   "metadata": {},
   "outputs": [
    {
     "name": "stdout",
     "output_type": "stream",
     "text": [
      "Yes, '23' Exist in '{1, 34, 5, 23}'\n"
     ]
    }
   ],
   "source": [
    "# 4. Check if an element exists in a set.\n",
    "set4 = {1,23,34,5,5}\n",
    "# find in exist value\n",
    "find_to = 23\n",
    "# if condintion to find in set4\n",
    "if find_to in set4:\n",
    "    print(f\"Yes, '{find_to}' Exist in '{set4}'\")\n",
    "else:\n",
    "    print(f\"No, '{find_to}' not exist in '{set4}'\")"
   ]
  },
  {
   "cell_type": "code",
   "execution_count": 122,
   "id": "7e4555f0-4fdb-4a9f-bcd7-c39e51da242f",
   "metadata": {},
   "outputs": [
    {
     "name": "stdout",
     "output_type": "stream",
     "text": [
      "There are '6' Elements in '{65, 1, 67, 3, 54, 23}'\n"
     ]
    }
   ],
   "source": [
    "# 5. Find the length of a set without using the `len()` function.\n",
    "set5 = {1,23,3,54,65,67}\n",
    "# initial count 0 \n",
    "count = 0\n",
    "# iterate through set5\n",
    "for _ in set5:\n",
    "    count +=1\n",
    "# print result \n",
    "print(f\"There are '{count}' Elements in '{set5}'\")"
   ]
  },
  {
   "cell_type": "code",
   "execution_count": 123,
   "id": "f593f83f-6fb1-4a8f-ab18-601f17a73beb",
   "metadata": {},
   "outputs": [
    {
     "name": "stdout",
     "output_type": "stream",
     "text": [
      "set()\n"
     ]
    }
   ],
   "source": [
    "# 6. Clear all elements from a set.\n",
    "set6 = {3,54,5,6,7,78}\n",
    "# clear set6 using clear method\n",
    "set6.clear()\n",
    "# print the result\n",
    "print(set6)"
   ]
  },
  {
   "cell_type": "code",
   "execution_count": 126,
   "id": "4cc51fee-4847-4325-b87b-41efebc3082d",
   "metadata": {},
   "outputs": [
    {
     "name": "stdout",
     "output_type": "stream",
     "text": [
      "Even Numbers:  {2, 4, 6, 8, 10}\n"
     ]
    }
   ],
   "source": [
    "# 7. Create a set of even numbers from 1 to 10.\n",
    "# initialize blank set\n",
    "blank_set = set()\n",
    "# iterate up to 11 from 1 \n",
    "for num in range(1,11):\n",
    "    if num % 2 == 0:\n",
    "        blank_set.add(num)\n",
    "# print result\n",
    "print(\"Even Numbers: \",blank_set)"
   ]
  },
  {
   "cell_type": "code",
   "execution_count": 127,
   "id": "2cd5c04b-2948-41a0-a2d9-759ebfa99d28",
   "metadata": {},
   "outputs": [
    {
     "name": "stdout",
     "output_type": "stream",
     "text": [
      "Odd Numbers:  {1, 3, 5, 7, 9}\n"
     ]
    }
   ],
   "source": [
    "# 8. Create a set of odd numbers from 1 to 10.\n",
    "odd_set = set()\n",
    "# iterate through 1 to 11\n",
    "for num in range(1,11):\n",
    "    if num % 2 != 0:\n",
    "        odd_set.add(num)\n",
    "# print result\n",
    "print(\"Odd Numbers: \",odd_set)"
   ]
  },
  {
   "cell_type": "code",
   "execution_count": 129,
   "id": "82b47dd7-bf76-47a7-8a1b-85dc861d3863",
   "metadata": {},
   "outputs": [
    {
     "name": "stdout",
     "output_type": "stream",
     "text": [
      "Added By Union:  {0, 4, 5, 6, 56, 9, 12}\n"
     ]
    }
   ],
   "source": [
    "# 9. Find the union of two sets.\n",
    "set_1 = {12,4,56,6,5}\n",
    "set_2 = {0,6,9}\n",
    "# use union to add them \n",
    "union_set = set_1.union(set_2)\n",
    "# print result\n",
    "print(\"Added By Union: \", union_set)"
   ]
  },
  {
   "cell_type": "code",
   "execution_count": 132,
   "id": "ea1d2b42-fb80-460f-8d36-5c0e20a7d7f7",
   "metadata": {},
   "outputs": [
    {
     "name": "stdout",
     "output_type": "stream",
     "text": [
      "Intersection Value:  {6}\n"
     ]
    }
   ],
   "source": [
    "# 10. Find the intersection of two sets.\n",
    "set_one = {334,4,56,6,7}\n",
    "set_two = {354,5,6,6}\n",
    "# use the intersection method to find only the intersection element in set\n",
    "set_one.intersection_update(set_two)\n",
    "# print result\n",
    "print(\"Intersection Value: \", set_one)"
   ]
  },
  {
   "cell_type": "code",
   "execution_count": 136,
   "id": "64107ede-6713-40df-84fd-c802911ae63a",
   "metadata": {},
   "outputs": [
    {
     "name": "stdout",
     "output_type": "stream",
     "text": [
      "Different Value:  {657, 3, 565, 78}\n"
     ]
    }
   ],
   "source": [
    "# 11. Find the difference between two sets.\n",
    "set_first = {34,3,544,565,657,78}\n",
    "set_sec = {34,35,544,67,7,}\n",
    "# use difference method to find different value only \n",
    "set_diff = set_first.difference(set_sec)\n",
    "# print the result \n",
    "print(\"Different Value: \", set_diff)"
   ]
  },
  {
   "cell_type": "code",
   "execution_count": 150,
   "id": "68a727e1-6746-446d-8fb5-03af480e11eb",
   "metadata": {},
   "outputs": [
    {
     "name": "stdout",
     "output_type": "stream",
     "text": [
      "Subsets:  True\n"
     ]
    }
   ],
   "source": [
    "# 12. Check if a set is a subset of another set.\n",
    "set_a = {4,54,67,3}\n",
    "set_b = {3,54,567,67,86,4}\n",
    "# checking if a set is subset of another set using issubset method\n",
    "is_subset = set_a.issubset(set_b)\n",
    "# print result\n",
    "print(\"Subsets: \", is_subset)"
   ]
  },
  {
   "cell_type": "code",
   "execution_count": 153,
   "id": "d6b0ad31-51ae-477c-9f3a-4c3c4cee4335",
   "metadata": {},
   "outputs": [
    {
     "name": "stdout",
     "output_type": "stream",
     "text": [
      "Is_superset:  True\n"
     ]
    }
   ],
   "source": [
    "# 13. Check if a set is a superset of another set.\n",
    "set_c = {23,4,56,67,78,8,5}\n",
    "set_d = {5,23,4}\n",
    "# check using superset\n",
    "is_superset = set_c.issuperset(set_d)\n",
    "# print the result \n",
    "print(\"Is_superset: \",is_superset)"
   ]
  },
  {
   "cell_type": "code",
   "execution_count": 154,
   "id": "4e66f5e4-35db-4cd7-9c47-f3672bad3397",
   "metadata": {},
   "outputs": [
    {
     "name": "stdout",
     "output_type": "stream",
     "text": [
      "Set:  {32, 1, 4, 5, 54}\n"
     ]
    }
   ],
   "source": [
    "# 14. Create a set from a list.\n",
    "list1111 = [1,32,4,54,5]\n",
    "# convert it to set\n",
    "set_list = set(list1111)\n",
    "# print the result \n",
    "print(\"Set: \",set_list)"
   ]
  },
  {
   "cell_type": "code",
   "execution_count": 155,
   "id": "83953d2d-f136-456d-acb8-736d170ca880",
   "metadata": {},
   "outputs": [
    {
     "name": "stdout",
     "output_type": "stream",
     "text": [
      "[2, 34, 5, 6, 7, 54]\n"
     ]
    }
   ],
   "source": [
    "# 15. Convert a set to a list.\n",
    "set_assign = {2,34,54,6,7,5}\n",
    "# convert it to list\n",
    "list_set = list(set_assign)\n",
    "# print result \n",
    "print(list_set)"
   ]
  },
  {
   "cell_type": "code",
   "execution_count": 162,
   "id": "82834d40-38bd-49e1-af90-58735c8a9b4c",
   "metadata": {},
   "outputs": [
    {
     "name": "stdout",
     "output_type": "stream",
     "text": [
      "Orginal Set:  {'python', 'php', 'ruby', 'html'}\n",
      "removed random element: python\n",
      "After Removed Result:  {'php', 'ruby', 'html'}\n"
     ]
    }
   ],
   "source": [
    "# 16. Remove a random element from a set.\n",
    "random_set = {\"php\", \"python\", \"ruby\", \"html\"}\n",
    "# print orginal without remove \n",
    "print(\"Orginal Set: \",random_set)\n",
    "# remove random element using pop method\n",
    "randmom_set_rem = random_set.pop()\n",
    "# print the result \n",
    "print(\"removed random element:\",randmom_set_rem)\n",
    "# now become\n",
    "print(\"After Removed Result: \",random_set)"
   ]
  },
  {
   "cell_type": "code",
   "execution_count": 9,
   "id": "9da88c05-1738-4aad-8768-ad1fc6bbfe2e",
   "metadata": {},
   "outputs": [
    {
     "name": "stdout",
     "output_type": "stream",
     "text": [
      "Original Result:  {2, 6, 7, 54, 43}\n",
      "Pop: 2\n",
      "after pop: {6, 7, 54, 43}\n"
     ]
    }
   ],
   "source": [
    "# 17. Pop an element from a set.\n",
    "make_set = {2,43,54,6,7,7}\n",
    "# print before \n",
    "print(\"Original Result: \",make_set)\n",
    "# remove using pop\n",
    "pop_el = make_set.pop()\n",
    "# print result \n",
    "print(\"Pop:\", pop_el)\n",
    "# after pop\n",
    "print(\"after pop:\", make_set)"
   ]
  },
  {
   "cell_type": "code",
   "execution_count": 11,
   "id": "90d186fc-5311-49cd-b6fc-7140419080f0",
   "metadata": {},
   "outputs": [
    {
     "name": "stdout",
     "output_type": "stream",
     "text": [
      "{3, 5} Intersection in {3, 788, 5, 6, 89} and {3, 5, 7, 8, 9}\n"
     ]
    }
   ],
   "source": [
    "# 18. Check if two sets have no elements in common.\n",
    "set_one = {3,5,6,788,89}\n",
    "set_two = {3,5,7,8,9,9}\n",
    "# check using intersection to find out common elements in both\n",
    "common_el = set_one.intersection(set_two)\n",
    "# print the result \n",
    "print(common_el, \"Intersection in\",set_one, \"and\", set_two)"
   ]
  },
  {
   "cell_type": "code",
   "execution_count": 15,
   "id": "8332c1be-fe84-4440-ac67-7eb7d25f654e",
   "metadata": {},
   "outputs": [
    {
     "name": "stdout",
     "output_type": "stream",
     "text": [
      "Symmertric Defferent:  {'php', 'reac', 'bootstrap', 'reactjs', 'pytorch'}\n"
     ]
    }
   ],
   "source": [
    "# 19. Find the symmetric difference between two sets.\n",
    "set_first = {\"html\", \"css\", \"javascript\", \"bootstrap\", \"reactjs\"}\n",
    "set_sec = {\"javascript\", \"reac\", \"pytorch\", \"html\", \"css\", \"php\"}\n",
    "# now find symmertric different\n",
    "symm_set = set_first.symmetric_difference(set_sec)\n",
    "# print result\n",
    "print(\"Symmertric Defferent: \", symm_set)"
   ]
  },
  {
   "cell_type": "code",
   "execution_count": 1,
   "id": "54e21df8-7048-46d5-874e-a0bab2d1e152",
   "metadata": {},
   "outputs": [
    {
     "name": "stdout",
     "output_type": "stream",
     "text": [
      "set1:  {10, 20, 30}\n",
      "set2:  {40, 50, 60}\n",
      "Final Result:  {50, 20, 40, 10, 60, 30}\n"
     ]
    }
   ],
   "source": [
    "# 20. Update a set with elements from another set.\n",
    "set1 = {10,20,30}\n",
    "# print set1\n",
    "print(\"set1: \",set1)\n",
    "# set2\n",
    "set2 = {40,50,60}\n",
    "# print set2\n",
    "print(\"set2: \", set2)\n",
    "# now update using update method\n",
    "set1.update(set2)\n",
    "# print final result \n",
    "print(\"Final Result: \", set1)"
   ]
  },
  {
   "cell_type": "code",
   "execution_count": 1,
   "id": "d94a1a53-6b5b-4f4f-a52a-2f33659e8c79",
   "metadata": {},
   "outputs": [
    {
     "name": "stdout",
     "output_type": "stream",
     "text": [
      "Prime Set First 5: {2, 3, 5, 7, 11}\n"
     ]
    }
   ],
   "source": [
    "# 21. Create a set of the first 5 prime numbers.\n",
    "max_num = 5\n",
    "count = 2\n",
    "# assing blank set \n",
    "prime_set = set()\n",
    "# while until max_num greater than 0\n",
    "while max_num > 0:\n",
    "    # initiate true \n",
    "    is_prime = True\n",
    "    # Iterate through range 2 to count \n",
    "    for i in range(2, count):\n",
    "        if count % i == 0:\n",
    "            is_prime = False\n",
    "            break\n",
    "    if is_prime:\n",
    "        prime_set.add(count)\n",
    "        max_num -=1\n",
    "    count +=1\n",
    "# print the result\n",
    "print(\"Prime Set First 5:\", prime_set)"
   ]
  },
  {
   "cell_type": "code",
   "execution_count": 6,
   "id": "8c022880-f46d-409c-9d6d-60432c8adea2",
   "metadata": {},
   "outputs": [
    {
     "name": "stdout",
     "output_type": "stream",
     "text": [
      "Sets Are Indentical\n"
     ]
    }
   ],
   "source": [
    "# 22. Check if two sets are identical.\n",
    "set_a = {1,2,3,4,5}\n",
    "set_b = {1,2,3,4,5}\n",
    "\n",
    "# check identical using == operator \n",
    "if set_a == set_b:\n",
    "    print(\"Sets Are Indentical\")\n",
    "else:\n",
    "    print(\"Sets Are not Indentical\")"
   ]
  },
  {
   "cell_type": "code",
   "execution_count": 8,
   "id": "4299f085-933e-4d26-9521-2a0dc6051150",
   "metadata": {},
   "outputs": [
    {
     "name": "stdout",
     "output_type": "stream",
     "text": [
      "Set to Frozen Set:  frozenset({1, 2, 3})\n"
     ]
    }
   ],
   "source": [
    "# 23. Create a frozen set.\n",
    "set_a = {1,2,3}\n",
    "# now convert it into frozenset\n",
    "frozenset_a = frozenset(set_a)\n",
    "# print value \n",
    "print(\"Set to Frozen Set: \",frozenset_a)"
   ]
  },
  {
   "cell_type": "code",
   "execution_count": 16,
   "id": "58125716-7837-4c73-882e-1601af57a38a",
   "metadata": {},
   "outputs": [
    {
     "name": "stdout",
     "output_type": "stream",
     "text": [
      "set_one and set_two are disjoint or not:  True\n"
     ]
    }
   ],
   "source": [
    "# 24. Check if a set is disjoint with another set.\n",
    "set_one = {1,3,4,5,6}\n",
    "set_two = {7,8,9,10,11}\n",
    "# check if set disjoint using disjoint method \n",
    "disjoint_set = set_one.isdisjoint(set_two)\n",
    "# print the result\n",
    "print(\"set_one and set_two are disjoint or not: \",disjoint_set)"
   ]
  },
  {
   "cell_type": "code",
   "execution_count": 17,
   "id": "5388b51b-5987-40c1-bf48-2302f4c1962e",
   "metadata": {},
   "outputs": [
    {
     "name": "stdout",
     "output_type": "stream",
     "text": [
      "Square of 1 to 5:  {1, 4, 9, 16, 25}\n"
     ]
    }
   ],
   "source": [
    "# 25. Create a set of squares of numbers from 1 to 5.\n",
    "set_sq = set()\n",
    "for i in range(1,6):\n",
    "    # assing each to sq by power\n",
    "    sq = i ** 2\n",
    "    # now add each to set_sq\n",
    "    set_sq.add(sq)\n",
    "# print the result \n",
    "print(\"Square of 1 to 5: \", set_sq)"
   ]
  },
  {
   "cell_type": "code",
   "execution_count": 18,
   "id": "72e3372d-a72e-48c1-a974-6467a1630883",
   "metadata": {},
   "outputs": [
    {
     "name": "stdout",
     "output_type": "stream",
     "text": [
      "Filtered Even Number:  {2, 54} from {1, 2, 3, 67, 54, 7}\n"
     ]
    }
   ],
   "source": [
    "# 26. Filter out all even numbers from a set.\n",
    "set_a = {1,2,3,54,67,7}\n",
    "even_blnk_set = set()\n",
    "# iterate through set_a \n",
    "for i in set_a:\n",
    "    if i % 2 == 0:\n",
    "        even_blnk_set.add(i)\n",
    "# print the result \n",
    "print(\"Filtered Even Number: \", even_blnk_set, \"from\", set_a)"
   ]
  },
  {
   "cell_type": "code",
   "execution_count": 19,
   "id": "3237ed08-635f-41d2-b687-c0a846b06b94",
   "metadata": {},
   "outputs": [
    {
     "name": "stdout",
     "output_type": "stream",
     "text": [
      "After Multiplied: {134, 8, 46, 112, 16} and before multiplied set: {67, 4, 23, 8, 56}\n"
     ]
    }
   ],
   "source": [
    "# 27. Multiply all elements in a set by 2.\n",
    "random_set = {23,4,56,67,8,8}\n",
    "multiplied_set = set()\n",
    "# iterate through random set and muliply by 2 each \n",
    "for i in random_set:\n",
    "    mul_num = i*2\n",
    "    multiplied_set.add(mul_num)\n",
    "# print result \n",
    "print(f\"After Multiplied: {multiplied_set} and before multiplied set: {random_set}\")"
   ]
  },
  {
   "cell_type": "code",
   "execution_count": 22,
   "id": "ad8e856a-a1a2-46c1-8fed-a307b30831f7",
   "metadata": {},
   "outputs": [
    {
     "name": "stdout",
     "output_type": "stream",
     "text": [
      "5 Randmon Number:  {35, 4, 6, 8, 87}\n"
     ]
    }
   ],
   "source": [
    "# 28. Create a set of random numbers.\n",
    "# import random package to generate random number\n",
    "import random\n",
    "# want number of random number \n",
    "number_of_random = 5\n",
    "# assing blank set\n",
    "rand_blank_set = set()\n",
    "# iterate through loop range number_of_random\n",
    "for _ in range(number_of_random):\n",
    "    # generate within 1 to 100\n",
    "    rand_num = random.randint(1,100)\n",
    "    # now add to rand_blank_set\n",
    "    rand_blank_set.add(rand_num)\n",
    "# print the result\n",
    "print(\"5 Randmon Number: \", rand_blank_set)"
   ]
  },
  {
   "cell_type": "code",
   "execution_count": 23,
   "id": "1bf1acdf-9e57-469e-8d35-ee1e4df6c286",
   "metadata": {},
   "outputs": [
    {
     "name": "stdout",
     "output_type": "stream",
     "text": [
      "set_11 is empty\n"
     ]
    }
   ],
   "source": [
    "# 29. Check if a set is empty.\n",
    "set_11 = set()\n",
    "# check empty set through if not \n",
    "if not set_11:\n",
    "    print(\"set_11 is empty\")\n",
    "else:\n",
    "    print(\"set_11 is not empty\")"
   ]
  },
  {
   "cell_type": "code",
   "execution_count": 29,
   "id": "94d887fa-ad9d-4435-9b38-076d65f239ff",
   "metadata": {},
   "outputs": [
    {
     "name": "stdout",
     "output_type": "stream",
     "text": [
      "Now Frozen Set:  {frozenset({1, 2, 3}), frozenset({4, 5, 6})}\n"
     ]
    }
   ],
   "source": [
    "# 30. Create a nested set (hint: use frozenset).\n",
    "set_a = {1,2,3}\n",
    "set_b = {4,5,6}\n",
    "# convert set_a and set_b to frozenset\n",
    "froz_set_a = frozenset(set_a)\n",
    "froz_set_b = frozenset(set_b)\n",
    "# now create nested \n",
    "frozen_set_nested = {froz_set_a, froz_set_b}\n",
    "# print result \n",
    "print(\"Now Frozen Set: \", frozen_set_nested)"
   ]
  },
  {
   "cell_type": "code",
   "execution_count": 31,
   "id": "32b104a8-cc3c-406b-bce7-3fff00721939",
   "metadata": {},
   "outputs": [
    {
     "name": "stdout",
     "output_type": "stream",
     "text": [
      "Original Set:  {'php', 'bootstrap', 'python'}\n",
      "After Discard PHP Result:  {'bootstrap', 'python'}\n"
     ]
    }
   ],
   "source": [
    "# 31. Remove an element from a set using the discard method.\n",
    "org_set = {\"php\", \"python\", \"bootstrap\"}\n",
    "# print org_set \n",
    "print(\"Original Set: \",org_set)\n",
    "# remove php using discard\n",
    "org_set.discard(\"php\")\n",
    "# print result\n",
    "print(\"After Discard PHP Result: \", org_set)"
   ]
  },
  {
   "cell_type": "code",
   "execution_count": 43,
   "id": "bad6ed75-c445-4eef-b899-06c948b28fdf",
   "metadata": {},
   "outputs": [
    {
     "name": "stdout",
     "output_type": "stream",
     "text": [
      "are set_one and set_two equal:  False\n",
      "are set_one and set_two not equal:  True\n",
      "Intersection Element:  {1, 2, 3}\n",
      "has set_one's elements in set_two:  False\n",
      "has set_two's elements in set_one:  False\n"
     ]
    }
   ],
   "source": [
    "# 32. Compare two sets.\n",
    "set_one = {1,2,3,4,566}\n",
    "set_two = {2,3,32,1,6,7}\n",
    "# comprison using diffrenet and multple attributes of set even operator\n",
    "if_equal = set_one == set_two # if both equal\n",
    "if_not_equal = set_one != set_two #if both not equal\n",
    "if_intersec = set_one.intersection(set_two) #if any element intersection\n",
    "if_subset = set_one.issubset(set_two) #if set_two having in set_one\n",
    "if_supset = set_two.issuperset(set_one) #if set_one having in set_two\n",
    "# print result \n",
    "print(\"are set_one and set_two equal: \", if_equal)\n",
    "print(\"are set_one and set_two not equal: \", if_not_equal)\n",
    "print(\"Intersection Element: \", if_intersec)\n",
    "print(\"has set_one's elements in set_two: \", if_subset)\n",
    "print(\"has set_two's elements in set_one: \", if_supset)"
   ]
  },
  {
   "cell_type": "code",
   "execution_count": 45,
   "id": "5e2ff769-2775-4737-920d-da2d4bb5aa1c",
   "metadata": {},
   "outputs": [
    {
     "name": "stdout",
     "output_type": "stream",
     "text": [
      "String to Set:  {'y', 'o', 'n', 'h', 't', 'P'}\n"
     ]
    }
   ],
   "source": [
    "# 33. Create a set from a string.\n",
    "string = \"Python\"\n",
    "# convert it into set\n",
    "set_from_str = set(string)\n",
    "# print the result \n",
    "print(\"String to Set: \",set_from_str)"
   ]
  },
  {
   "cell_type": "code",
   "execution_count": 46,
   "id": "9a6364f6-127d-4304-92bb-825b38ee7344",
   "metadata": {},
   "outputs": [
    {
     "name": "stdout",
     "output_type": "stream",
     "text": [
      "String Set of Integer:  {'1', '2', '5', '3', '4'} converted to Set of Integers:  {1, 2, 3, 4, 5}\n"
     ]
    }
   ],
   "source": [
    "# 34. Convert a set of strings to a set of integers.\n",
    "set_str_int = {\"1\",\"2\",\"3\",\"4\",\"5\"}\n",
    "# assing blank str_to_int\n",
    "str_to_int = set()\n",
    "# iterate through set_str_int\n",
    "for i in set_str_int:\n",
    "    int_set = int(i)\n",
    "    str_to_int.add(int_set)\n",
    "# print the result \n",
    "print(\"String Set of Integer: \",set_str_int, \"converted to Set of Integers: \", str_to_int)"
   ]
  },
  {
   "cell_type": "code",
   "execution_count": 47,
   "id": "6d9c29b4-f2bb-4069-b326-3e53c3ccd318",
   "metadata": {},
   "outputs": [
    {
     "name": "stdout",
     "output_type": "stream",
     "text": [
      "from integer:  {1, 2, 3, 4, 54} to string integer:  {'1', '54', '2', '3', '4'}\n"
     ]
    }
   ],
   "source": [
    "# 35. Convert a set of integers to a set of strings.\n",
    "set_int = {1,2,3,4,54}\n",
    "# assign blank set \n",
    "set_str_int = set()\n",
    "# iterate through set_int\n",
    "for i in set_int:\n",
    "    # store each to str_int_el\n",
    "    str_int_el = str(i)\n",
    "    # now add to set - set_str_int\n",
    "    set_str_int.add(str_int_el)\n",
    "# print result \n",
    "print(\"from integer: \",set_int, \"to string integer: \", set_str_int)"
   ]
  },
  {
   "cell_type": "code",
   "execution_count": 48,
   "id": "9ab6ee64-9f26-4dc5-a52a-2eac6b04b0d3",
   "metadata": {},
   "outputs": [
    {
     "name": "stdout",
     "output_type": "stream",
     "text": [
      "tuple:  (1, 3, 4, 5, 65)\n",
      "set:  {65, 1, 3, 4, 5}\n"
     ]
    }
   ],
   "source": [
    "# 36. Create a set from a tuple.\n",
    "tup_dt = (1,3,4,5,65)\n",
    "# print result \n",
    "print(\"tuple: \", tup_dt)\n",
    "# convert it into set\n",
    "tup_to_set = set(tup_dt)\n",
    "# print result \n",
    "print(\"set: \",tup_to_set)"
   ]
  },
  {
   "cell_type": "code",
   "execution_count": 49,
   "id": "b7a087b6-784b-488e-8480-f3728f5da33b",
   "metadata": {},
   "outputs": [
    {
     "name": "stdout",
     "output_type": "stream",
     "text": [
      "set:  {1, 34, 5, 6, 23}\n",
      "set to tuple:  (1, 34, 5, 6, 23)\n"
     ]
    }
   ],
   "source": [
    "# 37. Convert a set to a tuple.\n",
    "set_rand = {1,23,34,5,6}\n",
    "# print set_rand\n",
    "print(\"set: \", set_rand)\n",
    "# now convert it into tuple\n",
    "tup_set = tuple(set_rand)\n",
    "# print result\n",
    "print(\"set to tuple: \", tup_set)"
   ]
  },
  {
   "cell_type": "code",
   "execution_count": 50,
   "id": "045bdb43-bde9-4d7a-ae76-70a6c8c8cb47",
   "metadata": {},
   "outputs": [
    {
     "name": "stdout",
     "output_type": "stream",
     "text": [
      "78 is maximum value in {34, 67, 4, 7, 78, 54, 23, 56}\n"
     ]
    }
   ],
   "source": [
    "# 38. Find the maximum value in a set.\n",
    "set_one = {23,34,4,56,67,7,78,54,4,4}\n",
    "# find max value in set using max\n",
    "max_el_in_set = max(set_one)\n",
    "# prin result \n",
    "print(max_el_in_set, \"is maximum value in\", set_one)"
   ]
  },
  {
   "cell_type": "code",
   "execution_count": 53,
   "id": "c7a67542-8f7d-4d19-99ab-9177103d6923",
   "metadata": {},
   "outputs": [
    {
     "name": "stdout",
     "output_type": "stream",
     "text": [
      "4 is minimum value in  {32, 34, 67, 4, 45667, 6, 234, 54, 56}\n"
     ]
    }
   ],
   "source": [
    "# 39. Find the minimum value in a set.\n",
    "set_two = {234,54,56,67,6,4,4,32,34,45667}\n",
    "# find min value in set using min method \n",
    "min_val = min(set_two)\n",
    "# print result\n",
    "print(min_val, \"is minimum value in \", set_two)"
   ]
  },
  {
   "cell_type": "code",
   "execution_count": 56,
   "id": "65df99fa-0780-4429-8f14-6e4924096459",
   "metadata": {},
   "outputs": [
    {
     "name": "stdin",
     "output_type": "stream",
     "text": [
      "Enter Elements seprated comma:  hello, guys\n"
     ]
    },
    {
     "name": "stdout",
     "output_type": "stream",
     "text": [
      "{' guys', 'hello'}\n"
     ]
    }
   ],
   "source": [
    "# 40. Create a set from user input.\n",
    "# collecting input from user\n",
    "user_input = input(\"Enter Elements seprated comma: \")\n",
    "# use split to convert it into list and again convert to set\n",
    "set_split_user_input = set(user_input.split(','))\n",
    "# print result \n",
    "print(set_split_user_input)"
   ]
  },
  {
   "cell_type": "code",
   "execution_count": 61,
   "id": "77262a06-4fac-4f7c-88b5-2bcdff9e08a7",
   "metadata": {},
   "outputs": [
    {
     "name": "stdout",
     "output_type": "stream",
     "text": [
      "Intersection is not Empty\n"
     ]
    }
   ],
   "source": [
    "# 41. Check if the intersection of two sets is empty.\n",
    "set1 = {1,2,34,54,6}\n",
    "set2 = {223,2,566,7}\n",
    "# using intersection to find intersection value \n",
    "intersec_val = set1.intersection(set2)\n",
    "if not intersec_val:\n",
    "    print(\"Intersection is Empty\")\n",
    "else:\n",
    "    print(\"Intersection is not Empty\")"
   ]
  },
  {
   "cell_type": "code",
   "execution_count": 62,
   "id": "5e4e061c-c294-4a47-946e-2d407e66630f",
   "metadata": {},
   "outputs": [
    {
     "name": "stdout",
     "output_type": "stream",
     "text": [
      "Fibonacci of First 5 Number:  {0, 1, 2, 3, 5}\n"
     ]
    }
   ],
   "source": [
    "# 42. Create a set of the first 5 Fibonacci numbers.\n",
    "# first assing blank set \n",
    "fibonacci = set()\n",
    "# assign a = 0 and b= 1\n",
    "a, b = 0, 1\n",
    "# iterate through 6 because we need first 5 \n",
    "for i in range(6):\n",
    "    fibonacci.add(a)\n",
    "    a, b = b, a+b\n",
    "# print result \n",
    "print(\"Fibonacci of First 5 Number: \", fibonacci)"
   ]
  },
  {
   "cell_type": "code",
   "execution_count": 70,
   "id": "3f4f23d9-e81d-4aaa-bc83-93b1f15cfd4c",
   "metadata": {},
   "outputs": [
    {
     "name": "stdout",
     "output_type": "stream",
     "text": [
      "List With Duplicates:  [1, 1, 1, 2, 3, 4, 23, 2, 4, 54, 6, 67]\n",
      "Removed Duplicates Using Set:  [1, 2, 3, 4, 67, 6, 54, 23]\n"
     ]
    }
   ],
   "source": [
    "# 43. Remove duplicates from a list using sets.\n",
    "list_data = [1,1,1,2,3,4,23,2,4,54,6,67]\n",
    "# print list data\n",
    "print(\"List With Duplicates: \", list_data)\n",
    "# convert it into set to remove duplicates \n",
    "list_data_set = set(list_data)\n",
    "# now convert back to list datatype \n",
    "list_back = list(list_data_set)\n",
    "# print result\n",
    "print(\"Removed Duplicates Using Set: \", list_back)"
   ]
  },
  {
   "cell_type": "code",
   "execution_count": 73,
   "id": "306f28b1-367c-4c80-a49c-f4f4bf449052",
   "metadata": {},
   "outputs": [
    {
     "name": "stdout",
     "output_type": "stream",
     "text": [
      "set_one {1, 2, 3, 4, 5} and set_two {1, 2, 3, 4, 5} are same\n"
     ]
    }
   ],
   "source": [
    "# 44. Check if two sets have the same elements, regardless of their count.\n",
    "set_one = {1,2,3,4,5}\n",
    "set_two = {5,4,3,2,1}\n",
    "# comparison using == operator \n",
    "if set_one == set_two:\n",
    "    print(\"set_one\", set_one, \"and set_two\", set_two, \"are same\")\n",
    "else:\n",
    "    print(\"set_one\", set_one, \"and set_two\", set_two, \"are not same\")"
   ]
  },
  {
   "cell_type": "code",
   "execution_count": 76,
   "id": "ae6e5874-0d5a-4866-bef1-48610cdb800b",
   "metadata": {},
   "outputs": [
    {
     "name": "stdout",
     "output_type": "stream",
     "text": [
      "Power by two first n:  {0, 1, 64, 4, 36, 9, 16, 49, 81, 25}\n"
     ]
    }
   ],
   "source": [
    "# 45. Create a set of the first `n` powers of 2.\n",
    "# assign blank set \n",
    "sq_n = set()\n",
    "# asign n value \n",
    "n = 10\n",
    "for i in range(n):\n",
    "    # power by 2 each \n",
    "    sq = i ** 2\n",
    "    # add element in sq_n\n",
    "    sq_n.add(sq)\n",
    "# print result \n",
    "print(\"Power by two first n: \", sq_n)"
   ]
  },
  {
   "cell_type": "code",
   "execution_count": 80,
   "id": "8d33f20e-52d4-42dc-9ed8-5f4490bdcce6",
   "metadata": {},
   "outputs": [
    {
     "name": "stdout",
     "output_type": "stream",
     "text": [
      "Common Element: {1, 2, 5} in {1, 2, 67, 34, 5, 88} and {1, 2, 3, 5, 6, 7}\n"
     ]
    }
   ],
   "source": [
    "# 46. Find the common elements between a set and a list.\n",
    "set_el = {1,2,34,5,67,88}\n",
    "list_val = [1,2,3,5,6,7]\n",
    "# convert list_val to set data type \n",
    "list_val = set(list_val)\n",
    "# assing blank set\n",
    "common_set = set()\n",
    "# iterate through set_el\n",
    "for el in set_el:\n",
    "    # iterate each and match with list val\n",
    "    if el in list_val:\n",
    "        # if match than append in common_set\n",
    "        common_set.add(el)\n",
    "# print result \n",
    "print(\"Common Element:\", common_set, \"in\", set_el, \"and\", list_val)        "
   ]
  },
  {
   "cell_type": "code",
   "execution_count": 88,
   "id": "b3903ed0-3e92-45b2-9e48-f4b17ca31c4e",
   "metadata": {},
   "outputs": [
    {
     "name": "stdout",
     "output_type": "stream",
     "text": [
      "Triangular number of first  10 {0, 2, 6, 72, 42, 12, 110, 20, 56, 90, 30}\n"
     ]
    }
   ],
   "source": [
    "# 47. Create a set of the first `n` triangular numbers.\n",
    "# assing n number\n",
    "n = 10\n",
    "# assing blank set triangular \n",
    "set_triangular = set()\n",
    "# iterate through n + 1\n",
    "for i in range(n +1):\n",
    "    triangular_num = i * (i+1)\n",
    "    set_triangular.add(triangular_num)\n",
    "# print result \n",
    "print(\"Triangular number of first \", n, set_triangular)"
   ]
  },
  {
   "cell_type": "code",
   "execution_count": 93,
   "id": "1b0d63ad-a6a1-48a1-9ed9-04d29f4419b9",
   "metadata": {},
   "outputs": [
    {
     "name": "stdout",
     "output_type": "stream",
     "text": [
      "is {1, 2, 3, 4, 5, 6} contains {1, 3, 5} True\n"
     ]
    }
   ],
   "source": [
    "# 48. Check if a set contains another set as a subset.\n",
    "set_one = {1,2,3,4,5,6}\n",
    "set_two = {1,5,3}\n",
    "# check if contain another subset using issubset method\n",
    "is_subset = set_two.issubset(set_one)\n",
    "# print result\n",
    "print(\"is\", set_one, \"contains\", set_two, is_subset)"
   ]
  },
  {
   "cell_type": "code",
   "execution_count": 98,
   "id": "3a3ad9eb-8f52-452d-a3e4-7a0e64bb3753",
   "metadata": {},
   "outputs": [
    {
     "name": "stdout",
     "output_type": "stream",
     "text": [
      "{0, 1} Alternating 1s and 0s of Length 10\n"
     ]
    }
   ],
   "source": [
    "# 49. Create a set of alternating 1s and 0s of length `n`.\n",
    "# assing n value \n",
    "n = 10\n",
    "# iterate through n\n",
    "alternating = set(i % 2 for i in range(n))\n",
    "# print result \n",
    "print(alternating,\"Alternating 1s and 0s of Length\", n)"
   ]
  },
  {
   "cell_type": "code",
   "execution_count": 99,
   "id": "1fd503ef-60fe-438f-9670-a18f11e93ba1",
   "metadata": {},
   "outputs": [
    {
     "name": "stdout",
     "output_type": "stream",
     "text": [
      "{1, 2, 3, 4, 5} {6, 7, 8, 9, 10} {11, 12, 13, 14, 15}  are merged:  {1, 2, 3, 4, 5, 6, 7, 8, 9, 10, 11, 12, 13, 14, 15}\n"
     ]
    }
   ],
   "source": [
    "# 50. Merge multiple sets into one.\n",
    "set_a = {1,2,3,4,5}\n",
    "set_b = {6,7,8,9,10}\n",
    "set_c = {11,12,13,14,15}\n",
    "# merge using union\n",
    "merged_sets = set_a.union(set_b,set_c)\n",
    "# print result\n",
    "print(set_a, set_b, set_c,\" are merged: \",merged_sets)"
   ]
  }
 ],
 "metadata": {
  "kernelspec": {
   "display_name": "Python 3 (ipykernel)",
   "language": "python",
   "name": "python3"
  },
  "language_info": {
   "codemirror_mode": {
    "name": "ipython",
    "version": 3
   },
   "file_extension": ".py",
   "mimetype": "text/x-python",
   "name": "python",
   "nbconvert_exporter": "python",
   "pygments_lexer": "ipython3",
   "version": "3.12.0"
  }
 },
 "nbformat": 4,
 "nbformat_minor": 5
}
